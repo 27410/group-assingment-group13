{
 "cells": [
  {
   "cell_type": "markdown",
   "metadata": {},
   "source": [
    "## Predict gene knockout strategies"
   ]
  },
  {
   "cell_type": "markdown",
   "metadata": {},
   "source": [
    "### Import the required libraries and the model."
   ]
  },
  {
   "cell_type": "code",
   "execution_count": null,
   "metadata": {},
   "outputs": [],
   "source": [
    "from cobra.io import read_sbml_model\n",
    "from cobra import Model, Reaction, Metabolite\n",
    "from cobra.flux_analysis.phenotype_phase_plane import production_envelope\n",
    "from cameo import phenotypic_phase_plane\n",
    "from cameo.strain_design.heuristic.evolutionary_based import OptGene\n",
    "from cameo.strain_design.deterministic.linear_programming import OptKnock\n",
    "from cameo.visualization.plotting.with_plotly import PlotlyPlotter\n",
    "plotter = PlotlyPlotter()\n",
    "import matplotlib.pyplot as plt\n",
    "%matplotlib inline\n",
    "\n",
    "\n",
    "model = read_sbml_model('2018_ATCC1015_GSM_iJB1325.xml') #The model is refered from (Brandl, J., Aguilar-Pontes, M. V., Schape, P., Norregaard, A., Arvas, M., Ram, A. F. J., Meyer, V., Tsang, A., de Vries, R. P., & Andersen, M. R. (2018). A community-driven reconstruction of the Aspergillus niger metabolic network. Fungal Biology and Biotechnology, 5, 16. )"
   ]
  },
  {
   "cell_type": "markdown",
   "metadata": {},
   "source": [
    "### Media setup"
   ]
  },
  {
   "cell_type": "code",
   "execution_count": 9,
   "metadata": {},
   "outputs": [],
   "source": [
    "#Add extracellular metanolites\n",
    "PNTOe = Metabolite('PNTOe', formula='C9H17NO5', name='(R)-Pantothenate', compartment='e') \n",
    "model.add_metabolites([PNTOe])\n",
    "\n",
    "DHFe = Metabolite('DHFe', formula='C19H21N7O6', name='7,8-Dihydrofolate', compartment='e') \n",
    "model.add_metabolites([DHFe])\n",
    "\n",
    "PABAe = Metabolite('PABAe', formula='C7H7NO2', name='4-Aminobenzoate', compartment='e') \n",
    "model.add_metabolites([PABAe])\n",
    "\n",
    "PLe = Metabolite('PLe', formula='C8H9NO3', name='Pyridoxal', compartment='e') \n",
    "model.add_metabolites([PLe])\n",
    "\n",
    "RIBOFLAVe = Metabolite('RIBOFLAVe', formula='C17H20N4O6', name='Riboflavin', compartment='e') \n",
    "model.add_metabolites([RIBOFLAVe])\n",
    "\n",
    "#Add transport reactions\n",
    "r2392 = Reaction('r2392')\n",
    "r2392.name = '(R)-Pantothenate transport'\n",
    "r2392.subsystem = \"Transport\"\n",
    "r2392.lower_bound = -1000\n",
    "r2392.add_metabolites({PNTOe: -1.0, model.metabolites.PNTO: 1.0})\n",
    "\n",
    "r2393 = Reaction('r2393')\n",
    "r2393.name = '7,8-Dihydrofolate transport'\n",
    "r2393.lower_bound = -1000\n",
    "r2393.subsystem = 'Transport'\n",
    "r2393.add_metabolites({DHFe: -1.0, model.metabolites.DHF: 1.0})\n",
    "\n",
    "r2394 = Reaction('r2394')\n",
    "r2394.name = '4-Aminobenzoate transport'\n",
    "r2394.lower_bound = -1000\n",
    "r2394.subsystem = 'Transport'\n",
    "r2394.add_metabolites({PABAe: -1.0, model.metabolites.PABA: 1.0})\n",
    "\n",
    "r2395 = Reaction('r2395')\n",
    "r2395.name = 'Pyridoxal transport'\n",
    "r2395.lower_bound = -1000\n",
    "r2395.subsystem = 'Transport'\n",
    "r2395.add_metabolites({PLe: -1.0, model.metabolites.PL: 1.0})\n",
    "\n",
    "r2396 = Reaction('r2396')\n",
    "r2396.name = 'Riboflavin transport'\n",
    "r2396.lower_bound = -1000\n",
    "r2396.subsystem = 'Transport'\n",
    "r2396.add_metabolites({RIBOFLAVe: -1.0, model.metabolites.RIBOFLAV: 1.0})\n",
    "\n",
    "r2397 = Reaction('r2397')\n",
    "r2397.name = 'Copper transport'\n",
    "r2397.lower_bound = -1000\n",
    "r2397.subsystem = 'Transport'\n",
    "r2397.add_metabolites({model.metabolites.CUe: -1.0, model.metabolites.CU: 1.0})\n",
    "\n",
    "#Add boundary conditions\n",
    "model.add_boundary(model.metabolites.PNTOe, type=\"exchange\", reaction_id= \"BOUNDARY_PNTOe\")\n",
    "model.add_boundary(model.metabolites.DHFe, type=\"exchange\", reaction_id= \"BOUNDARY_DHFe\")\n",
    "model.add_boundary(model.metabolites.PABAe, type=\"exchange\", reaction_id= \"BOUNDARY_PABAe\")\n",
    "model.add_boundary(model.metabolites.PLe, type=\"exchange\", reaction_id= \"BOUNDARY_PLe\")\n",
    "model.add_boundary(model.metabolites.RIBOFLAVe, type=\"exchange\", reaction_id= \"BOUNDARY_RIBOFLAVe\")\n",
    "model.add_boundary(model.metabolites.CUe, type=\"exchange\", reaction_id= \"BOUNDARY_CUe\")\n",
    "\n",
    "medium_blank = {key: 0 for key in model.medium}\n",
    "YESmedium = medium_blank # Setup the object for YESmedium\n",
    "\n",
    "#Set the concentration for the amino acids\n",
    "YESmedium['BOUNDARY_GLCe'] = 20 \n",
    "# YESmedium['BOUNDARY_ALAe'] = 10\n",
    "YESmedium['BOUNDARY_ARGe'] = 10\n",
    "# YESmedium['BOUNDARY_ASPe'] = 10\n",
    "# YESmedium['BOUNDARY_CYSe'] = 10\n",
    "# YESmedium['BOUNDARY_GLUe'] = 10\n",
    "# YESmedium['BOUNDARY_GLYe'] = 10\n",
    "# YESmedium['BOUNDARY_HISe'] = 10\n",
    "# YESmedium['BOUNDARY_ILEe'] = 10\n",
    "# YESmedium['BOUNDARY_LEUe'] = 10\n",
    "# YESmedium['BOUNDARY_LYSe'] = 10\n",
    "# YESmedium['BOUNDARY_METe'] = 10\n",
    "# YESmedium['BOUNDARY_PHEe'] = 10\n",
    "# YESmedium['BOUNDARY_PROe'] = 10\n",
    "# YESmedium['BOUNDARY_SERe'] = 10\n",
    "# YESmedium['BOUNDARY_THRe'] = 10\n",
    "# YESmedium['BOUNDARY_TRPe'] = 10\n",
    "# YESmedium['BOUNDARY_TYRe'] = 10\n",
    "# YESmedium['BOUNDARY_VALe'] = 10\n",
    "\n",
    "#Set the concentration for the supplements\n",
    "YESmedium['BOUNDARY_NH4e'] = 5 #Ammonium  \n",
    "YESmedium['BOUNDARY_SLFe'] = 5.5 #Sulfate\n",
    "YESmedium['BOUNDARY_BTe'] = 2/10**6 #Biotin \n",
    "YESmedium['BOUNDARY_PNTOe'] = 400/10**6 #Pantothenic Acid\n",
    "YESmedium['BOUNDARY_DHFe'] = 2/10**6 #Folic acid\n",
    "YESmedium['BOUNDARY_MYOIe'] = 4000/10**6 #myo-Inositol\n",
    "YESmedium['BOUNDARY_NICAe'] = 800/10**6 #Nicotinate\n",
    "YESmedium['BOUNDARY_PABAe'] = 400/10**6 #4-Aminobenzoate\n",
    "YESmedium['BOUNDARY_PLe'] = 800/10**6 #Pyridoxal\n",
    "YESmedium['BOUNDARY_RIBOFLAVe'] = 200/10**6 #Riboflavin\n",
    "YESmedium['BOUNDARY_THIAe'] = 800/10**6 #Thiamine\n",
    "YESmedium['BOUNDARY_CUe'] = 80/10**6 #Copper\n",
    "YESmedium['BOUNDARY_Ke'] = 2 #Potassium\n",
    "YESmedium['BOUNDARY_FE2e'] = 200/10**6 #Ferric \n",
    "YESmedium['BOUNDARY_MNe'] = 400/10**6 #Manganese\n",
    "YESmedium['BOUNDARY_MOe'] = 200/10**6 #Molybdate\n",
    "YESmedium['BOUNDARY_ZNe'] = 400/10**6 #Zinc\n",
    "YESmedium['BOUNDARY_PIe'] = 1 #Phosphate\n",
    "YESmedium['BOUNDARY_CAe'] = 0.4 #Calcium \n",
    "\n",
    "#Set the condition\n",
    "YESmedium['BOUNDARY_H2Oe'] = 1000 #Water\n",
    "YESmedium['BOUNDARY_O2e'] = 1000 #Oxygen \n",
    "\n",
    "# Setting YES as control medium\n",
    "model.medium = YESmedium\n",
    "\n",
    "model.reactions.BOUNDARY_GLCe.bonds = -20,1000"
   ]
  },
  {
   "cell_type": "markdown",
   "metadata": {},
   "source": [
    "### Phenotpic phase plane (Wildtype)"
   ]
  },
  {
   "cell_type": "code",
   "execution_count": 10,
   "metadata": {},
   "outputs": [],
   "source": [
    "#Analysis\n",
    "wt_solution = model.optimize()\n",
    "growth = wt_solution.fluxes[\"DRAIN_Biomass\"]\n",
    "yanD_production = wt_solution.fluxes[\"r1976\"]\n",
    "yanD = phenotypic_phase_plane(model, variables=['DRAIN_Biomass'], objective='r1976')"
   ]
  },
  {
   "cell_type": "code",
   "execution_count": null,
   "metadata": {},
   "outputs": [],
   "source": [
    "#Visualization\n",
    "yanD.plot(plotter, points=[(growth, yanD_production)])"
   ]
  },
  {
   "cell_type": "code",
   "execution_count": 2,
   "metadata": {},
   "outputs": [
    {
     "data": {
      "image/png": "[encoded data removed]",
      "text/plain": [
       "<IPython.core.display.Image object>"
      ]
     },
     "execution_count": 2,
     "metadata": {},
     "output_type": "execute_result"
    }
   ],
   "source": [
    "from IPython.display import Image\n",
    "\n",
    "Image(filename='WT.png')"
   ]
  },
  {
   "cell_type": "markdown",
   "metadata": {},
   "source": [
    "### OptGene\n",
    "\n",
    "OptGene significantly reduces computational time, enabling the resolution of larger problems due to the combinatorial nature of enzyme deletions in relation to the problem size. Additionally, it optimizes non-linear objective functions, like productivity, crucial in various commercial applications. (Patil, Rocha, Förster, & Nielsen, 2005)."
   ]
  },
  {
   "cell_type": "code",
   "execution_count": null,
   "metadata": {},
   "outputs": [],
   "source": [
    "#Analysis\n",
    "optgene = OptGene(model)\n",
    "\n",
    "result = optgene.run(target=model.reactions.r1976,\n",
    "                     biomass=model.reactions.DRAIN_Biomass,\n",
    "                     substrate=model.metabolites.GLCe,\n",
    "                     max_evaluations=5000,\n",
    "                     plot=False)"
   ]
  },
  {
   "cell_type": "code",
   "execution_count": 16,
   "metadata": {},
   "outputs": [
    {
     "name": "stderr",
     "output_type": "stream",
     "text": [
      "No solutions found\n"
     ]
    },
    {
     "data": {
      "text/html": [
       "\n",
       "        <h3>OptGene Result</h3>\n",
       "        <ul>\n",
       "            <li>Simulation: fba<br/></li>\n",
       "            <li>Objective Function: $$bpcy = \\frac{(DRAIN\\_Biomass * r1976)}{DM\\_GLCe}$$<br/></li>\n",
       "        </ul>\n",
       "        <div>\n",
       "<style scoped>\n",
       "    .dataframe tbody tr th:only-of-type {\n",
       "        vertical-align: middle;\n",
       "    }\n",
       "\n",
       "    .dataframe tbody tr th {\n",
       "        vertical-align: top;\n",
       "    }\n",
       "\n",
       "    .dataframe thead th {\n",
       "        text-align: right;\n",
       "    }\n",
       "</style>\n",
       "<table border=\"1\" class=\"dataframe\">\n",
       "  <thead>\n",
       "    <tr style=\"text-align: right;\">\n",
       "      <th></th>\n",
       "      <th>reactions</th>\n",
       "      <th>genes</th>\n",
       "      <th>size</th>\n",
       "      <th>fva_min</th>\n",
       "      <th>fva_max</th>\n",
       "      <th>target_flux</th>\n",
       "      <th>biomass_flux</th>\n",
       "      <th>yield</th>\n",
       "      <th>fitness</th>\n",
       "    </tr>\n",
       "  </thead>\n",
       "  <tbody>\n",
       "  </tbody>\n",
       "</table>\n",
       "</div>\n",
       "        "
      ],
      "text/plain": [
       "<cameo.strain_design.heuristic.evolutionary_based.OptGeneResult at 0x239be1b36a0>"
      ]
     },
     "execution_count": 16,
     "metadata": {},
     "output_type": "execute_result"
    }
   ],
   "source": [
    "#Look into result of Optgene\n",
    "result #No result found"
   ]
  },
  {
   "cell_type": "markdown",
   "metadata": {},
   "source": [
    "### OptKnock\n",
    "\n",
    "OptKnock suggests gene deletion strategies leading to the overproduction of a pre-specified metabolite using the provided metabolic model. A nested optimization framework identifies the gene deletions by coupling the production of the desired product with biomass formation."
   ]
  },
  {
   "cell_type": "code",
   "execution_count": null,
   "metadata": {},
   "outputs": [],
   "source": [
    "#Analysis\n",
    "optknock = OptKnock(model, fraction_of_optimum=0.1)\n",
    "result = optknock.run(max_knockouts=1, target=\"r1976\", biomass=\"DRAIN_Biomass\")"
   ]
  },
  {
   "cell_type": "code",
   "execution_count": 15,
   "metadata": {},
   "outputs": [
    {
     "data": {
      "application/vnd.jupyter.widget-view+json": {
       "model_id": "c822038164284184bc29ac6eb96887d0",
       "version_major": 2,
       "version_minor": 0
      },
      "text/plain": [
       "HBox()"
      ]
     },
     "metadata": {},
     "output_type": "display_data"
    },
    {
     "data": {
      "text/html": [
       "\n",
       "        <h3>OptKnock:</h3>\n",
       "        <ul>\n",
       "            <li>Target: r1976</li>\n",
       "        </ul>\n",
       "        <div>\n",
       "<style scoped>\n",
       "    .dataframe tbody tr th:only-of-type {\n",
       "        vertical-align: middle;\n",
       "    }\n",
       "\n",
       "    .dataframe tbody tr th {\n",
       "        vertical-align: top;\n",
       "    }\n",
       "\n",
       "    .dataframe thead th {\n",
       "        text-align: right;\n",
       "    }\n",
       "</style>\n",
       "<table border=\"1\" class=\"dataframe\">\n",
       "  <thead>\n",
       "    <tr style=\"text-align: right;\">\n",
       "      <th></th>\n",
       "      <th>reactions</th>\n",
       "      <th>size</th>\n",
       "      <th>r1976</th>\n",
       "      <th>biomass</th>\n",
       "      <th>fva_min</th>\n",
       "      <th>fva_max</th>\n",
       "    </tr>\n",
       "  </thead>\n",
       "  <tbody>\n",
       "    <tr>\n",
       "      <th>0</th>\n",
       "      <td>{r545}</td>\n",
       "      <td>1</td>\n",
       "      <td>2.607173</td>\n",
       "      <td>0.380952</td>\n",
       "      <td>0.0</td>\n",
       "      <td>2.613003</td>\n",
       "    </tr>\n",
       "  </tbody>\n",
       "</table>\n",
       "</div>"
      ],
      "text/plain": [
       "<cameo.strain_design.deterministic.linear_programming.OptKnockResult at 0x2cb952bc5b0>"
      ]
     },
     "execution_count": 15,
     "metadata": {},
     "output_type": "execute_result"
    }
   ],
   "source": [
    "#Look into result of Optknock\n",
    "result"
   ]
  },
  {
   "cell_type": "code",
   "execution_count": null,
   "metadata": {},
   "outputs": [],
   "source": [
    "#Visualization\n",
    "result.plot(plotter)"
   ]
  },
  {
   "cell_type": "code",
   "execution_count": 3,
   "metadata": {},
   "outputs": [
    {
     "data": {
      "image/png": "[encoded data removed]",
      "text/plain": [
       "<IPython.core.display.Image object>"
      ]
     },
     "execution_count": 3,
     "metadata": {},
     "output_type": "execute_result"
    }
   ],
   "source": [
    "from IPython.display import Image\n",
    "\n",
    "Image(filename='Optknock.png')"
   ]
  }
 ],
 "metadata": {
  "kernelspec": {
   "display_name": "Python 3",
   "language": "python",
   "name": "python3"
  },
  "language_info": {
   "codemirror_mode": {
    "name": "ipython",
    "version": 3
   },
   "file_extension": ".py",
   "mimetype": "text/x-python",
   "name": "python",
   "nbconvert_exporter": "python",
   "pygments_lexer": "ipython3",
   "version": "3.9.13"
  }
 },
 "nbformat": 4,
 "nbformat_minor": 2
}
