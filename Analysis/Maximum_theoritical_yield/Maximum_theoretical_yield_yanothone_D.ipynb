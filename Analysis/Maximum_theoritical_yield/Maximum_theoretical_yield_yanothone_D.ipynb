{
 "cells": [
  {
   "cell_type": "markdown",
   "metadata": {},
   "source": [
    "## Maximum theoretical yield of yanuthone D production"
   ]
  },
  {
   "cell_type": "markdown",
   "metadata": {},
   "source": [
    "### Import the required libraries and the model."
   ]
  },
  {
   "cell_type": "code",
   "execution_count": 90,
   "metadata": {},
   "outputs": [
    {
     "name": "stderr",
     "output_type": "stream",
     "text": [
      "C:\\Users\\boysa\\AppData\\Local\\Temp\\ipykernel_26548\\189181901.py:5: MatplotlibDeprecationWarning: The seaborn styles shipped by Matplotlib are deprecated since 3.6, as they no longer correspond to the styles shipped by seaborn. However, they will remain available as 'seaborn-v0_8-<style>'. Alternatively, directly use the seaborn API instead.\n",
      "  plt.style.use('seaborn')\n",
      "'' is not a valid SBML 'SId'.\n"
     ]
    }
   ],
   "source": [
    "from cobra.io import read_sbml_model\n",
    "from cobra import Model, Reaction, Metabolite\n",
    "import pandas as pd\n",
    "import matplotlib.pyplot as plt\n",
    "plt.style.use('seaborn')\n",
    "%matplotlib inline\n",
    "\n",
    "\n",
    "model = read_sbml_model('2018_ATCC1015_GSM_iJB1325.xml') #The model is refered from (Brandl, J., Aguilar-Pontes, M. V., Schape, P., Norregaard, A., Arvas, M., Ram, A. F. J., Meyer, V., Tsang, A., de Vries, R. P., & Andersen, M. R. (2018). A community-driven reconstruction of the Aspergillus niger metabolic network. Fungal Biology and Biotechnology, 5, 16. )"
   ]
  },
  {
   "cell_type": "markdown",
   "metadata": {},
   "source": [
    "### Maximum theoretical yield using default media\n"
   ]
  },
  {
   "cell_type": "markdown",
   "metadata": {},
   "source": [
    "#### Default meduim in the model"
   ]
  },
  {
   "cell_type": "code",
   "execution_count": 54,
   "metadata": {},
   "outputs": [
    {
     "data": {
      "text/plain": [
       "{'BOUNDARY_GLCe': 10.0,\n",
       " 'BOUNDARY_H2Oe': 1000.0,\n",
       " 'BOUNDARY_HNO3e': 1000.0,\n",
       " 'BOUNDARY_O2e': 1000.0,\n",
       " 'BOUNDARY_PIe': 1000.0,\n",
       " 'BOUNDARY_SLFe': 1000.0,\n",
       " 'BOUNDARY_Ke': 1000.0,\n",
       " 'BOUNDARY_CAe': 1000.0}"
      ]
     },
     "execution_count": 54,
     "metadata": {},
     "output_type": "execute_result"
    }
   ],
   "source": [
    "model.medium #look into the default medium in the model"
   ]
  },
  {
   "cell_type": "markdown",
   "metadata": {},
   "source": [
    "#### Calculation of theoritical yield in (mmol/mmol):"
   ]
  },
  {
   "cell_type": "code",
   "execution_count": 95,
   "metadata": {},
   "outputs": [
    {
     "name": "stdout",
     "output_type": "stream",
     "text": [
      "Maximum productivity = 22.910417782538882 mmol/gDW*h\n",
      "Maximum theoretical yield = 1.5273611855025921 mmol-yanD/mmol-glc\n"
     ]
    }
   ],
   "source": [
    "model.objective = model.reactions.r1976 #setting model objective\n",
    "yanD_production = model.optimize().objective_value\n",
    "print('Maximum productivity =', yanD_production, 'mmol/gDW*h')\n",
    "   \n",
    "maximum_yield = yanD_production / (-1*(model.reactions.BOUNDARY_GLCe.flux))\n",
    "print('Maximum theoretical yield =', maximum_yield, 'mmol-yanD/mmol-glc')"
   ]
  },
  {
   "cell_type": "markdown",
   "metadata": {},
   "source": [
    "#### Calculation of theoritical yield in (cmol/cmol): "
   ]
  },
  {
   "cell_type": "code",
   "execution_count": 96,
   "metadata": {},
   "outputs": [
    {
     "name": "stdout",
     "output_type": "stream",
     "text": [
      "Maximum theoretical yield = 7.1276855323454305 cmol-yanD/cmol-glc\n"
     ]
    }
   ],
   "source": [
    "nC_vanD = 28 #number of C atom in yanuthone D\n",
    "nC_glc = 6 #number of C atom in glucose\n",
    "yanD_production_cmol = (maximum_yield*nC_vanD)/(1*nC_glc)\n",
    "print('Maximum theoretical yield =', yanD_production_cmol, 'cmol-yanD/cmol-glc')"
   ]
  },
  {
   "cell_type": "markdown",
   "metadata": {},
   "source": [
    "### Maximum theoretical yield using YES media"
   ]
  },
  {
   "cell_type": "markdown",
   "metadata": {},
   "source": [
    "#### Introduce boundary conditiones"
   ]
  },
  {
   "cell_type": "code",
   "execution_count": 115,
   "metadata": {},
   "outputs": [
    {
     "data": {
      "text/html": [
       "\n",
       "        <table>\n",
       "            <tr>\n",
       "                <td><strong>Reaction identifier</strong></td><td>BOUNDARY_CUe</td>\n",
       "            </tr><tr>\n",
       "                <td><strong>Name</strong></td><td>Copper exchange</td>\n",
       "            </tr><tr>\n",
       "                <td><strong>Memory address</strong></td>\n",
       "                <td>0x2349a006c50</td>\n",
       "            </tr><tr>\n",
       "                <td><strong>Stoichiometry</strong></td>\n",
       "                <td>\n",
       "                    <p style='text-align:right'>CUe <=></p>\n",
       "                    <p style='text-align:right'>Copper <=></p>\n",
       "                </td>\n",
       "            </tr><tr>\n",
       "                <td><strong>GPR</strong></td><td></td>\n",
       "            </tr><tr>\n",
       "                <td><strong>Lower bound</strong></td><td>-1000.0</td>\n",
       "            </tr><tr>\n",
       "                <td><strong>Upper bound</strong></td><td>1000.0</td>\n",
       "            </tr>\n",
       "        </table>\n",
       "        "
      ],
      "text/plain": [
       "<Reaction BOUNDARY_CUe at 0x2349a006c50>"
      ]
     },
     "execution_count": 115,
     "metadata": {},
     "output_type": "execute_result"
    }
   ],
   "source": [
    "#Add extracellular metanolites\n",
    "PNTOe = Metabolite('PNTOe', formula='C9H17NO5', name='(R)-Pantothenate', compartment='e') \n",
    "model.add_metabolites([PNTOe])\n",
    "\n",
    "DHFe = Metabolite('DHFe', formula='C19H21N7O6', name='7,8-Dihydrofolate', compartment='e') \n",
    "model.add_metabolites([DHFe])\n",
    "\n",
    "PABAe = Metabolite('PABAe', formula='C7H7NO2', name='4-Aminobenzoate', compartment='e') \n",
    "model.add_metabolites([PABAe])\n",
    "\n",
    "PLe = Metabolite('PLe', formula='C8H9NO3', name='Pyridoxal', compartment='e') \n",
    "model.add_metabolites([PLe])\n",
    "\n",
    "RIBOFLAVe = Metabolite('RIBOFLAVe', formula='C17H20N4O6', name='Riboflavin', compartment='e') \n",
    "model.add_metabolites([RIBOFLAVe])\n",
    "\n",
    "#Add transport reactions\n",
    "r2392 = Reaction('r2392')\n",
    "r2392.name = '(R)-Pantothenate transport'\n",
    "r2392.subsystem = \"Transport\"\n",
    "r2392.lower_bound = -1000\n",
    "r2392.add_metabolites({PNTOe: -1.0, model.metabolites.PNTO: 1.0})\n",
    "\n",
    "r2393 = Reaction('r2393')\n",
    "r2393.name = '7,8-Dihydrofolate transport'\n",
    "r2393.lower_bound = -1000\n",
    "r2393.subsystem = 'Transport'\n",
    "r2393.add_metabolites({DHFe: -1.0, model.metabolites.DHF: 1.0})\n",
    "\n",
    "r2394 = Reaction('r2394')\n",
    "r2394.name = '4-Aminobenzoate transport'\n",
    "r2394.lower_bound = -1000\n",
    "r2394.subsystem = 'Transport'\n",
    "r2394.add_metabolites({PABAe: -1.0, model.metabolites.PABA: 1.0})\n",
    "\n",
    "r2395 = Reaction('r2395')\n",
    "r2395.name = 'Pyridoxal transport'\n",
    "r2395.lower_bound = -1000\n",
    "r2395.subsystem = 'Transport'\n",
    "r2395.add_metabolites({PLe: -1.0, model.metabolites.PL: 1.0})\n",
    "\n",
    "r2396 = Reaction('r2396')\n",
    "r2396.name = 'Riboflavin transport'\n",
    "r2396.lower_bound = -1000\n",
    "r2396.subsystem = 'Transport'\n",
    "r2396.add_metabolites({RIBOFLAVe: -1.0, model.metabolites.RIBOFLAV: 1.0})\n",
    "\n",
    "r2397 = Reaction('r2397')\n",
    "r2397.name = 'Copper transport'\n",
    "r2397.lower_bound = -1000\n",
    "r2397.subsystem = 'Transport'\n",
    "r2397.add_metabolites({model.metabolites.CUe: -1.0, model.metabolites.CU: 1.0})\n",
    "\n",
    "#Add boundary conditions\n",
    "model.add_boundary(model.metabolites.PNTOe, type=\"exchange\", reaction_id= \"BOUNDARY_PNTOe\")\n",
    "model.add_boundary(model.metabolites.DHFe, type=\"exchange\", reaction_id= \"BOUNDARY_DHFe\")\n",
    "model.add_boundary(model.metabolites.PABAe, type=\"exchange\", reaction_id= \"BOUNDARY_PABAe\")\n",
    "model.add_boundary(model.metabolites.PLe, type=\"exchange\", reaction_id= \"BOUNDARY_PLe\")\n",
    "model.add_boundary(model.metabolites.RIBOFLAVe, type=\"exchange\", reaction_id= \"BOUNDARY_RIBOFLAVe\")\n",
    "model.add_boundary(model.metabolites.CUe, type=\"exchange\", reaction_id= \"BOUNDARY_CUe\")"
   ]
  },
  {
   "cell_type": "markdown",
   "metadata": {},
   "source": [
    "#### Formulating the YES media: \n",
    "The undefined composition of yeast extract in Yeast-Extract with Supplments (YES) media was assumed to be that of YNB media plus 20 amino acids and d-glucose (Suthers et al., 2020). "
   ]
  },
  {
   "cell_type": "code",
   "execution_count": 135,
   "metadata": {},
   "outputs": [],
   "source": [
    "medium_blank = {key: 0 for key in model.medium}\n",
    "YESmedium = medium_blank # Setup the object for YESmedium\n",
    "\n",
    "#Set the concentration for the amino acids; assumed to be half of the initial concentration of YESmedium\n",
    "YESmedium['BOUNDARY_GLCe'] = 15 \n",
    "YESmedium['BOUNDARY_ALAe'] = 10\n",
    "YESmedium['BOUNDARY_ARGe'] = 10\n",
    "YESmedium['BOUNDARY_ASPe'] = 10\n",
    "YESmedium['BOUNDARY_CYSe'] = 10\n",
    "YESmedium['BOUNDARY_GLUe'] = 10\n",
    "YESmedium['BOUNDARY_GLYe'] = 10\n",
    "YESmedium['BOUNDARY_HISe'] = 10\n",
    "YESmedium['BOUNDARY_ILEe'] = 10\n",
    "YESmedium['BOUNDARY_LEUe'] = 10\n",
    "YESmedium['BOUNDARY_LYSe'] = 10\n",
    "YESmedium['BOUNDARY_METe'] = 10\n",
    "YESmedium['BOUNDARY_PHEe'] = 10\n",
    "YESmedium['BOUNDARY_PROe'] = 10\n",
    "YESmedium['BOUNDARY_SERe'] = 10\n",
    "YESmedium['BOUNDARY_THRe'] = 10\n",
    "YESmedium['BOUNDARY_TRPe'] = 10\n",
    "YESmedium['BOUNDARY_TYRe'] = 10\n",
    "YESmedium['BOUNDARY_VALe'] = 10\n",
    "\n",
    "#Set the concentration for the supplements; assumed to be half of the initial concentration of YESmedium (https://www.usbio.net/media/Y2025)\n",
    "YESmedium['BOUNDARY_NH4e'] = 2.5 #Ammonium  \n",
    "YESmedium['BOUNDARY_SLFe'] = 2.75 #Sulfate\n",
    "YESmedium['BOUNDARY_BTe'] = 1/10**6 #Biotin \n",
    "YESmedium['BOUNDARY_PNTOe'] = 200/10**6 #Pantothenic Acid\n",
    "YESmedium['BOUNDARY_DHFe'] = 1/10**6 #Folic acid\n",
    "YESmedium['BOUNDARY_MYOIe'] = 2000/10**6 #myo-Inositol\n",
    "YESmedium['BOUNDARY_NICAe'] = 400/10**6 #Nicotinate\n",
    "YESmedium['BOUNDARY_PABAe'] = 200/10**6 #4-Aminobenzoate\n",
    "YESmedium['BOUNDARY_PLe'] = 400/10**6 #Pyridoxal\n",
    "YESmedium['BOUNDARY_RIBOFLAVe'] = 200/10**6 #Riboflavin\n",
    "YESmedium['BOUNDARY_THIAe'] = 400/10**6 #Thiamine\n",
    "YESmedium['BOUNDARY_CUe'] = 40/10**6 #Copper\n",
    "YESmedium['BOUNDARY_Ke'] = 0.5 #Potassium\n",
    "YESmedium['BOUNDARY_FE2e'] = 100/10**6 #Ferric \n",
    "YESmedium['BOUNDARY_MNe'] = 200/10**6 #Manganese\n",
    "YESmedium['BOUNDARY_MOe'] = 100/10**6 #Molybdate\n",
    "YESmedium['BOUNDARY_ZNe'] = 200/10**6 #Zinc\n",
    "YESmedium['BOUNDARY_PIe'] = 0.5 #Phosphate\n",
    "YESmedium['BOUNDARY_CAe'] = 0.2 #Calcium \n",
    "\n",
    "#Set the condition\n",
    "YESmedium['BOUNDARY_H2Oe'] = 1000 #Water\n",
    "YESmedium['BOUNDARY_O2e'] = 1000 #Oxygen \n"
   ]
  },
  {
   "cell_type": "markdown",
   "metadata": {},
   "source": [
    "#### Setting the bounds of the exchange reactions in order to create the fluxes:"
   ]
  },
  {
   "cell_type": "code",
   "execution_count": 136,
   "metadata": {},
   "outputs": [],
   "source": [
    "model.reactions.BOUNDARY_GLCe.bounds = -15, 1000\n",
    "model.reactions.BOUNDARY_ALAe.bounds = -10, 0\n",
    "model.reactions.BOUNDARY_ARGe.bounds = -10, 0\n",
    "model.reactions.BOUNDARY_ASPe.bounds = -10, 0\n",
    "model.reactions.BOUNDARY_CYSe.bounds = -10, 0\n",
    "model.reactions.BOUNDARY_GLUe.bounds = -10, 0\n",
    "model.reactions.BOUNDARY_GLYe.bounds = -10, 0\n",
    "model.reactions.BOUNDARY_HISe.bounds = -10, 0\n",
    "model.reactions.BOUNDARY_ILEe.bounds = -10, 0\n",
    "model.reactions.BOUNDARY_LEUe.bounds = -10, 0\n",
    "model.reactions.BOUNDARY_LYSe.bounds = -10, 0\n",
    "model.reactions.BOUNDARY_METe.bounds = -10, 0\n",
    "model.reactions.BOUNDARY_PHEe.bounds = -10, 0\n",
    "model.reactions.BOUNDARY_PROe.bounds = -10, 0\n",
    "model.reactions.BOUNDARY_SERe.bounds = -10, 0\n",
    "model.reactions.BOUNDARY_THRe.bounds = -10, 0\n",
    "model.reactions.BOUNDARY_TRPe.bounds = -10, 0\n",
    "model.reactions.BOUNDARY_TYRe.bounds = -10, 0\n",
    "model.reactions.BOUNDARY_VALe.bounds = -10, 0"
   ]
  },
  {
   "cell_type": "code",
   "execution_count": 137,
   "metadata": {},
   "outputs": [
    {
     "data": {
      "text/plain": [
       "{'BOUNDARY_ALAe': 10,\n",
       " 'BOUNDARY_ARGe': 10,\n",
       " 'BOUNDARY_ASPe': 10,\n",
       " 'BOUNDARY_BTe': 1e-06,\n",
       " 'BOUNDARY_CYSe': 10,\n",
       " 'BOUNDARY_GLCe': 15,\n",
       " 'BOUNDARY_GLUe': 10,\n",
       " 'BOUNDARY_GLYe': 10,\n",
       " 'BOUNDARY_H2Oe': 1000,\n",
       " 'BOUNDARY_HISe': 10,\n",
       " 'BOUNDARY_ILEe': 10,\n",
       " 'BOUNDARY_LEUe': 10,\n",
       " 'BOUNDARY_LYSe': 10,\n",
       " 'BOUNDARY_METe': 0,\n",
       " 'BOUNDARY_NICAe': 0.0004,\n",
       " 'BOUNDARY_O2e': 1000,\n",
       " 'BOUNDARY_PHEe': 10,\n",
       " 'BOUNDARY_PIe': 0.5,\n",
       " 'BOUNDARY_SERe': 10,\n",
       " 'BOUNDARY_SLFe': 2.75,\n",
       " 'BOUNDARY_THRe': 10,\n",
       " 'BOUNDARY_TRPe': 10,\n",
       " 'BOUNDARY_TYRe': 10,\n",
       " 'BOUNDARY_VALe': 10,\n",
       " 'BOUNDARY_Ke': 0.5,\n",
       " 'BOUNDARY_CAe': 0.2,\n",
       " 'BOUNDARY_NH4e': 2.5,\n",
       " 'BOUNDARY_MYOIe': 0.002,\n",
       " 'BOUNDARY_MNe': 0.0002,\n",
       " 'BOUNDARY_THIAe': 0.0004,\n",
       " 'BOUNDARY_MOe': 0.0001,\n",
       " 'BOUNDARY_ZNe': 0.0002,\n",
       " 'BOUNDARY_FE2e': 0.0001,\n",
       " 'BOUNDARY_PNTOe': 0.0002,\n",
       " 'BOUNDARY_DHFe': 1e-06,\n",
       " 'BOUNDARY_PABAe': 0.0002,\n",
       " 'BOUNDARY_PLe': 0.0004,\n",
       " 'BOUNDARY_RIBOFLAVe': 0.0002,\n",
       " 'BOUNDARY_CUe': 4e-05}"
      ]
     },
     "execution_count": 137,
     "metadata": {},
     "output_type": "execute_result"
    }
   ],
   "source": [
    "YESmedium"
   ]
  },
  {
   "cell_type": "markdown",
   "metadata": {},
   "source": [
    "#### Computing the summed carbon source fluxes: "
   ]
  },
  {
   "cell_type": "code",
   "execution_count": 138,
   "metadata": {},
   "outputs": [],
   "source": [
    "CSource_fluxes = [model.reactions.BOUNDARY_ALAe.flux,\n",
    "       model.reactions.BOUNDARY_ARGe.flux,\n",
    "       model.reactions.BOUNDARY_ASPe.flux,\n",
    "       model.reactions.BOUNDARY_CYSe.flux,\n",
    "       model.reactions.BOUNDARY_GLUe.flux,\n",
    "       model.reactions.BOUNDARY_GLYe.flux,\n",
    "       model.reactions.BOUNDARY_HISe.flux,\n",
    "       model.reactions.BOUNDARY_ILEe.flux,\n",
    "       model.reactions.BOUNDARY_LEUe.flux,\n",
    "       model.reactions.BOUNDARY_LYSe.flux,\n",
    "       model.reactions.BOUNDARY_METe.flux,\n",
    "       model.reactions.BOUNDARY_PHEe.flux,\n",
    "       model.reactions.BOUNDARY_PROe.flux,\n",
    "       model.reactions.BOUNDARY_SERe.flux,\n",
    "       model.reactions.BOUNDARY_THRe.flux,\n",
    "       model.reactions.BOUNDARY_TRPe.flux,\n",
    "       model.reactions.BOUNDARY_TYRe.flux,\n",
    "       model.reactions.BOUNDARY_VALe.flux,\n",
    "       model.reactions.BOUNDARY_GLCe.flux ]"
   ]
  },
  {
   "cell_type": "code",
   "execution_count": 139,
   "metadata": {},
   "outputs": [],
   "source": [
    "sum_CSource_fluxes = sum(CSource_fluxes)"
   ]
  },
  {
   "cell_type": "markdown",
   "metadata": {},
   "source": [
    "#### Computing the maximum theoretical yield using YES media (mmol/mmol):"
   ]
  },
  {
   "cell_type": "code",
   "execution_count": 140,
   "metadata": {},
   "outputs": [
    {
     "name": "stdout",
     "output_type": "stream",
     "text": [
      "Maximum productivity = 20.515486770219624 mmol/gDW*h\n",
      "Maximum theoretical yield = 0.12433628345587651 mmol-yanD/mmol-Csources\n"
     ]
    }
   ],
   "source": [
    "model.medium = YESmedium\n",
    "with model:\n",
    "    model.objective = model.reactions.r1976\n",
    "    yanD_production = model.optimize().objective_value\n",
    "    print('Maximum productivity =', yanD_production, 'mmol/gDW*h')\n",
    "   \n",
    "    maximum_yield_YES = yanD_production / (-1*(sum_CSource_fluxes))\n",
    "    print('Maximum theoretical yield =', maximum_yield_YES, 'mmol-yanD/mmol-Csources')"
   ]
  }
 ],
 "metadata": {
  "kernelspec": {
   "display_name": "Python 3",
   "language": "python",
   "name": "python3"
  },
  "language_info": {
   "codemirror_mode": {
    "name": "ipython",
    "version": 3
   },
   "file_extension": ".py",
   "mimetype": "text/x-python",
   "name": "python",
   "nbconvert_exporter": "python",
   "pygments_lexer": "ipython3",
   "version": "3.10.0"
  }
 },
 "nbformat": 4,
 "nbformat_minor": 4
}
