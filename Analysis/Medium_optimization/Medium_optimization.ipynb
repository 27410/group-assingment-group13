{
 "cells": [
  {
   "cell_type": "markdown",
   "metadata": {},
   "source": [
    "## Medium optimization "
   ]
  },
  {
   "cell_type": "markdown",
   "metadata": {},
   "source": [
    "### Import the required libraries and the model."
   ]
  },
  {
   "cell_type": "code",
   "execution_count": 97,
   "metadata": {},
   "outputs": [
    {
     "name": "stderr",
     "output_type": "stream",
     "text": [
      "C:\\Users\\boysa\\AppData\\Local\\Temp\\ipykernel_22676\\2865061136.py:6: MatplotlibDeprecationWarning: The seaborn styles shipped by Matplotlib are deprecated since 3.6, as they no longer correspond to the styles shipped by seaborn. However, they will remain available as 'seaborn-v0_8-<style>'. Alternatively, directly use the seaborn API instead.\n",
      "  plt.style.use('seaborn')\n",
      "'' is not a valid SBML 'SId'.\n"
     ]
    }
   ],
   "source": [
    "from cobra.io import read_sbml_model\n",
    "from cobra import Model, Reaction, Metabolite\n",
    "import pandas as pd\n",
    "import numpy as np\n",
    "import matplotlib.pyplot as plt\n",
    "plt.style.use('seaborn')\n",
    "%matplotlib inline\n",
    "\n",
    "\n",
    "model = read_sbml_model('2018_ATCC1015_GSM_iJB1325.xml') #The model is refered from (Brandl, J., Aguilar-Pontes, M. V., Schape, P., Norregaard, A., Arvas, M., Ram, A. F. J., Meyer, V., Tsang, A., de Vries, R. P., & Andersen, M. R. (2018). A community-driven reconstruction of the Aspergillus niger metabolic network. Fungal Biology and Biotechnology, 5, 16. )"
   ]
  },
  {
   "cell_type": "markdown",
   "metadata": {},
   "source": [
    "#### Introduce boundary conditiones"
   ]
  },
  {
   "cell_type": "code",
   "execution_count": 98,
   "metadata": {},
   "outputs": [
    {
     "data": {
      "text/html": [
       "\n",
       "        <table>\n",
       "            <tr>\n",
       "                <td><strong>Reaction identifier</strong></td><td>BOUNDARY_CUe</td>\n",
       "            </tr><tr>\n",
       "                <td><strong>Name</strong></td><td>Copper exchange</td>\n",
       "            </tr><tr>\n",
       "                <td><strong>Memory address</strong></td>\n",
       "                <td>0x1ed08e18e50</td>\n",
       "            </tr><tr>\n",
       "                <td><strong>Stoichiometry</strong></td>\n",
       "                <td>\n",
       "                    <p style='text-align:right'>CUe <=></p>\n",
       "                    <p style='text-align:right'>Copper <=></p>\n",
       "                </td>\n",
       "            </tr><tr>\n",
       "                <td><strong>GPR</strong></td><td></td>\n",
       "            </tr><tr>\n",
       "                <td><strong>Lower bound</strong></td><td>-1000.0</td>\n",
       "            </tr><tr>\n",
       "                <td><strong>Upper bound</strong></td><td>1000.0</td>\n",
       "            </tr>\n",
       "        </table>\n",
       "        "
      ],
      "text/plain": [
       "<Reaction BOUNDARY_CUe at 0x1ed08e18e50>"
      ]
     },
     "execution_count": 98,
     "metadata": {},
     "output_type": "execute_result"
    }
   ],
   "source": [
    "#Add extracellular metanolites\n",
    "PNTOe = Metabolite('PNTOe', formula='C9H17NO5', name='(R)-Pantothenate', compartment='e') \n",
    "model.add_metabolites([PNTOe])\n",
    "\n",
    "DHFe = Metabolite('DHFe', formula='C19H21N7O6', name='7,8-Dihydrofolate', compartment='e') \n",
    "model.add_metabolites([DHFe])\n",
    "\n",
    "PABAe = Metabolite('PABAe', formula='C7H7NO2', name='4-Aminobenzoate', compartment='e') \n",
    "model.add_metabolites([PABAe])\n",
    "\n",
    "PLe = Metabolite('PLe', formula='C8H9NO3', name='Pyridoxal', compartment='e') \n",
    "model.add_metabolites([PLe])\n",
    "\n",
    "RIBOFLAVe = Metabolite('RIBOFLAVe', formula='C17H20N4O6', name='Riboflavin', compartment='e') \n",
    "model.add_metabolites([RIBOFLAVe])\n",
    "\n",
    "#Add transport reactions\n",
    "r2392 = Reaction('r2392')\n",
    "r2392.name = '(R)-Pantothenate transport'\n",
    "r2392.subsystem = \"Transport\"\n",
    "r2392.lower_bound = -1000\n",
    "r2392.add_metabolites({PNTOe: -1.0, model.metabolites.PNTO: 1.0})\n",
    "\n",
    "r2393 = Reaction('r2393')\n",
    "r2393.name = '7,8-Dihydrofolate transport'\n",
    "r2393.lower_bound = -1000\n",
    "r2393.subsystem = 'Transport'\n",
    "r2393.add_metabolites({DHFe: -1.0, model.metabolites.DHF: 1.0})\n",
    "\n",
    "r2394 = Reaction('r2394')\n",
    "r2394.name = '4-Aminobenzoate transport'\n",
    "r2394.lower_bound = -1000\n",
    "r2394.subsystem = 'Transport'\n",
    "r2394.add_metabolites({PABAe: -1.0, model.metabolites.PABA: 1.0})\n",
    "\n",
    "r2395 = Reaction('r2395')\n",
    "r2395.name = 'Pyridoxal transport'\n",
    "r2395.lower_bound = -1000\n",
    "r2395.subsystem = 'Transport'\n",
    "r2395.add_metabolites({PLe: -1.0, model.metabolites.PL: 1.0})\n",
    "\n",
    "r2396 = Reaction('r2396')\n",
    "r2396.name = 'Riboflavin transport'\n",
    "r2396.lower_bound = -1000\n",
    "r2396.subsystem = 'Transport'\n",
    "r2396.add_metabolites({RIBOFLAVe: -1.0, model.metabolites.RIBOFLAV: 1.0})\n",
    "\n",
    "r2397 = Reaction('r2397')\n",
    "r2397.name = 'Copper transport'\n",
    "r2397.lower_bound = -1000\n",
    "r2397.subsystem = 'Transport'\n",
    "r2397.add_metabolites({model.metabolites.CUe: -1.0, model.metabolites.CU: 1.0})\n",
    "\n",
    "#Add boundary conditions\n",
    "model.add_boundary(model.metabolites.PNTOe, type=\"exchange\", reaction_id= \"BOUNDARY_PNTOe\")\n",
    "model.add_boundary(model.metabolites.DHFe, type=\"exchange\", reaction_id= \"BOUNDARY_DHFe\")\n",
    "model.add_boundary(model.metabolites.PABAe, type=\"exchange\", reaction_id= \"BOUNDARY_PABAe\")\n",
    "model.add_boundary(model.metabolites.PLe, type=\"exchange\", reaction_id= \"BOUNDARY_PLe\")\n",
    "model.add_boundary(model.metabolites.RIBOFLAVe, type=\"exchange\", reaction_id= \"BOUNDARY_RIBOFLAVe\")\n",
    "model.add_boundary(model.metabolites.CUe, type=\"exchange\", reaction_id= \"BOUNDARY_CUe\")"
   ]
  },
  {
   "cell_type": "markdown",
   "metadata": {},
   "source": [
    "#### Formulating the YES media (Control): \n",
    "The undefined composition of yeast extract in Yeast-Extract with Supplments (YES) media was assumed to be that of YNB media plus 20 amino acids and d-glucose (Suthers et al., 2020). "
   ]
  },
  {
   "cell_type": "code",
   "execution_count": 99,
   "metadata": {},
   "outputs": [],
   "source": [
    "medium_blank = {key: 0 for key in model.medium}\n",
    "YESmedium = medium_blank # Setup the object for YESmedium\n",
    "\n",
    "#Set the concentration for the amino acids\n",
    "YESmedium['BOUNDARY_GLCe'] = 20 \n",
    "YESmedium['BOUNDARY_ALAe'] = 10\n",
    "YESmedium['BOUNDARY_ARGe'] = 10\n",
    "YESmedium['BOUNDARY_ASPe'] = 10\n",
    "YESmedium['BOUNDARY_CYSe'] = 10\n",
    "YESmedium['BOUNDARY_GLUe'] = 10\n",
    "YESmedium['BOUNDARY_GLYe'] = 10\n",
    "YESmedium['BOUNDARY_HISe'] = 10\n",
    "YESmedium['BOUNDARY_ILEe'] = 10\n",
    "YESmedium['BOUNDARY_LEUe'] = 10\n",
    "YESmedium['BOUNDARY_LYSe'] = 10\n",
    "YESmedium['BOUNDARY_METe'] = 10\n",
    "YESmedium['BOUNDARY_PHEe'] = 10\n",
    "YESmedium['BOUNDARY_PROe'] = 10\n",
    "YESmedium['BOUNDARY_SERe'] = 10\n",
    "YESmedium['BOUNDARY_THRe'] = 10\n",
    "YESmedium['BOUNDARY_TRPe'] = 10\n",
    "YESmedium['BOUNDARY_TYRe'] = 10\n",
    "YESmedium['BOUNDARY_VALe'] = 10\n",
    "\n",
    "#Set the condition\n",
    "YESmedium['BOUNDARY_H2Oe'] = 1000 #Water\n",
    "YESmedium['BOUNDARY_O2e'] = 1000 #Oxygen \n",
    "\n",
    "#Set the concentration for the supplements\n",
    "YESmedium['BOUNDARY_NH4e'] = 5 #Ammonium  \n",
    "YESmedium['BOUNDARY_SLFe'] = 5.5 #Sulfate\n",
    "YESmedium['BOUNDARY_BTe'] = 2/10**6 #Biotin \n",
    "YESmedium['BOUNDARY_PNTOe'] = 400/10**6 #Pantothenic Acid\n",
    "YESmedium['BOUNDARY_DHFe'] = 2/10**6 #Folic acid\n",
    "YESmedium['BOUNDARY_MYOIe'] = 4000/10**6 #myo-Inositol\n",
    "YESmedium['BOUNDARY_NICAe'] = 800/10**6 #Nicotinate\n",
    "YESmedium['BOUNDARY_PABAe'] = 400/10**6 #4-Aminobenzoate\n",
    "YESmedium['BOUNDARY_PLe'] = 800/10**6 #Pyridoxal\n",
    "YESmedium['BOUNDARY_RIBOFLAVe'] = 200/10**6 #Riboflavin\n",
    "YESmedium['BOUNDARY_THIAe'] = 800/10**6 #Thiamine\n",
    "YESmedium['BOUNDARY_CUe'] = 80/10**6 #Copper\n",
    "YESmedium['BOUNDARY_Ke'] = 2 #Potassium\n",
    "YESmedium['BOUNDARY_FE2e'] = 200/10**6 #Ferric \n",
    "YESmedium['BOUNDARY_MNe'] = 400/10**6 #Manganese\n",
    "YESmedium['BOUNDARY_MOe'] = 200/10**6 #Molybdate\n",
    "YESmedium['BOUNDARY_ZNe'] = 400/10**6 #Zinc\n",
    "YESmedium['BOUNDARY_PIe'] = 1 #Phosphate\n",
    "YESmedium['BOUNDARY_CAe'] = 0.4 #Calcium \n",
    "\n",
    "# Setting YES as control medium\n",
    "model.medium = YESmedium\n",
    "\n",
    "# model.reactions.BOUNDARY_GLCe.bonds = -20,1000\n",
    "# model.reactions.BOUNDARY_ALAe.bonds = -10,1000\n",
    "# model.reactions.BOUNDARY_ARGe.bonds = -10,1000\n",
    "# model.reactions.BOUNDARY_ASPe.bonds = -10,1000\n",
    "# model.reactions.BOUNDARY_CYSe.bonds = -10,1000\n",
    "# model.reactions.BOUNDARY_GLUe.bonds = -10,1000\n",
    "# model.reactions.BOUNDARY_GLYe.bonds = -10,1000\n",
    "# model.reactions.BOUNDARY_HISe.bonds = -10,1000\n",
    "# model.reactions.BOUNDARY_ILEe.bonds = -10,1000\n",
    "# model.reactions.BOUNDARY_LEUe.bonds = -10,1000\n",
    "# model.reactions.BOUNDARY_LYSe.bonds = -10,1000\n",
    "# model.reactions.BOUNDARY_METe.bonds = -10,1000\n",
    "# model.reactions.BOUNDARY_PHEe.bonds = -10,1000\n",
    "# model.reactions.BOUNDARY_PROe.bonds = -10,1000\n",
    "# model.reactions.BOUNDARY_PHEe.bonds = -10,1000\n",
    "# model.reactions.BOUNDARY_SERe.bonds = -10,1000\n",
    "# model.reactions.BOUNDARY_THRe.bonds = -10,1000\n",
    "# model.reactions.BOUNDARY_TRPe.bonds = -10,1000\n",
    "# model.reactions.BOUNDARY_TYRe.bonds = -10,1000\n",
    "# model.reactions.BOUNDARY_VALe.bonds = -10,1000"
   ]
  },
  {
   "cell_type": "markdown",
   "metadata": {},
   "source": [
    "#### Productivities using control medium (YES media):"
   ]
  },
  {
   "cell_type": "code",
   "execution_count": 100,
   "metadata": {},
   "outputs": [
    {
     "name": "stdout",
     "output_type": "stream",
     "text": [
      "Maximum theoretical biomass productivity: 11.889156928341682 /h\n",
      "Maximum theoretical productivity of yanuthone D syshtesis: 23.708397214783307 mmol/gDW*h\n"
     ]
    }
   ],
   "source": [
    "with model:\n",
    "    solution = model.optimize()\n",
    "    print('Maximum theoretical biomass productivity:', solution.fluxes['DRAIN_Biomass'], '/h')\n",
    "    \n",
    "    model.objective = model.reactions.r1976\n",
    "    yanD_production = model.optimize().objective_value\n",
    "    print('Maximum theoretical productivity of yanuthone D syshtesis:', yanD_production, 'mmol/gDW*h')"
   ]
  },
  {
   "cell_type": "markdown",
   "metadata": {},
   "source": [
    "### C-sourse optimization\n",
    "#### Productivities using the alternative carbon source:"
   ]
  },
  {
   "cell_type": "code",
   "execution_count": 101,
   "metadata": {},
   "outputs": [
    {
     "name": "stdout",
     "output_type": "stream",
     "text": [
      "Maximum theoretical biomass productivity: 11.88915692836596 /h\n",
      "Maximum theoretical productivity of yanuthone D syshtesis: 23.70839721478311 mmol/gDW*h\n"
     ]
    }
   ],
   "source": [
    "#Fructose\n",
    "medium = model.medium\n",
    "with model:\n",
    "    medium['BOUNDARY_GLCe'] = 0\n",
    "    medium['BOUNDARY_FRUe'] = 20\n",
    "    model.medium = medium_blank\n",
    "    solution2 = model.optimize()\n",
    "    print('Maximum theoretical biomass productivity:', solution2.fluxes['DRAIN_Biomass'], '/h')\n",
    "    \n",
    "    model.medium = medium_blank\n",
    "    model.reactions.BOUNDARY_FRUe.bounds = (0,1000)\n",
    "    model.objective = model.reactions.r1976\n",
    "    yanD_production2 = model.optimize().objective_value\n",
    "    print('Maximum theoretical productivity of yanuthone D syshtesis:', yanD_production2, 'mmol/gDW*h')\n",
    "    \n"
   ]
  },
  {
   "cell_type": "code",
   "execution_count": 102,
   "metadata": {},
   "outputs": [
    {
     "name": "stdout",
     "output_type": "stream",
     "text": [
      "Maximum theoretical biomass productivity: 11.889156928291131 /h\n",
      "Maximum theoretical productivity of yanuthone D syshtesis: 23.708397214782792 mmol/gDW*h\n"
     ]
    }
   ],
   "source": [
    "#Sucorse\n",
    "medium = model.medium\n",
    "with model:\n",
    "    medium['BOUNDARY_GLCe'] = 0\n",
    "    medium['BOUNDARY_SUCe'] = 20/2 #disaccharide\n",
    "    model.medium = medium\n",
    "    solution3 = model.optimize()\n",
    "    print('Maximum theoretical biomass productivity:', solution3.fluxes['DRAIN_Biomass'], '/h')\n",
    "    \n",
    "    model.medium = medium\n",
    "    model.objective = model.reactions.r1976\n",
    "    yanD_production3 = model.optimize().objective_value\n",
    "    print('Maximum theoretical productivity of yanuthone D syshtesis:', yanD_production3, 'mmol/gDW*h')"
   ]
  },
  {
   "cell_type": "code",
   "execution_count": 103,
   "metadata": {},
   "outputs": [
    {
     "name": "stdout",
     "output_type": "stream",
     "text": [
      "Maximum theoretical biomass productivity: 11.889156928367274 /h\n",
      "Maximum theoretical productivity of yanuthone D syshtesis: 23.708397214783172 mmol/gDW*h\n"
     ]
    }
   ],
   "source": [
    "#Maltose\n",
    "medium = model.medium\n",
    "with model:\n",
    "    medium['BOUNDARY_GLCe'] = 0\n",
    "    medium['BOUNDARY_MLTe'] = 20/2 #disaccharide\n",
    "    model.medium = medium\n",
    "    solution4 = model.optimize()\n",
    "    print('Maximum theoretical biomass productivity:', solution4.fluxes['DRAIN_Biomass'], '/h')\n",
    "  \n",
    "    model.medium = medium\n",
    "    model.objective = model.reactions.r1976\n",
    "    yanD_production4 = model.optimize().objective_value\n",
    "    print('Maximum theoretical productivity of yanuthone D syshtesis:', yanD_production4, 'mmol/gDW*h')"
   ]
  },
  {
   "cell_type": "code",
   "execution_count": 104,
   "metadata": {},
   "outputs": [
    {
     "name": "stdout",
     "output_type": "stream",
     "text": [
      "Maximum theoretical biomass productivity: 11.699330010969016 /h\n",
      "Maximum theoretical productivity of yanuthone D syshtesis: 23.176795715051295 mmol/gDW*h\n"
     ]
    }
   ],
   "source": [
    "#Xylose\n",
    "medium = model.medium\n",
    "with model:\n",
    "    medium['BOUNDARY_GLCe'] = 0\n",
    "    medium['BOUNDARY_XYLe'] = 20\n",
    "    model.medium = medium\n",
    "    solution5 = model.optimize()\n",
    "    print('Maximum theoretical biomass productivity:', solution5.fluxes['DRAIN_Biomass'], '/h')\n",
    "    \n",
    "    model.medium = medium\n",
    "    model.objective = model.reactions.r1976\n",
    "    yanD_production5 = model.optimize().objective_value\n",
    "    print('Maximum theoretical productivity of yanuthone D syshtesis:', yanD_production5, 'mmol/gDW*h')"
   ]
  },
  {
   "cell_type": "code",
   "execution_count": 105,
   "metadata": {},
   "outputs": [
    {
     "name": "stdout",
     "output_type": "stream",
     "text": [
      "Maximum theoretical biomass productivity: 11.960879944959489 /h\n",
      "Maximum theoretical productivity of yanuthone D syshtesis: 23.909254204604828 mmol/gDW*h\n"
     ]
    }
   ],
   "source": [
    "#Mannitol\n",
    "medium = model.medium\n",
    "with model:\n",
    "    medium['BOUNDARY_GLCe'] = 0\n",
    "    medium['BOUNDARY_MNTe'] = 20\n",
    "    model.medium = medium\n",
    "    solution6 = model.optimize()\n",
    "    print('Maximum theoretical biomass productivity:', solution6.fluxes['DRAIN_Biomass'], '/h')\n",
    "    \n",
    "    model.medium = medium\n",
    "    model.objective = model.reactions.r1976\n",
    "    yanD_production6 = model.optimize().objective_value\n",
    "    print('Maximum theoretical productivity of yanuthone D syshtesis:', yanD_production6, 'mmol/gDW*h')"
   ]
  },
  {
   "cell_type": "code",
   "execution_count": 106,
   "metadata": {},
   "outputs": [
    {
     "name": "stdout",
     "output_type": "stream",
     "text": [
      "Maximum theoretical biomass productivity: 11.889156926901906 /h\n",
      "Maximum theoretical productivity of yanuthone D syshtesis: 23.708397214783044 mmol/gDW*h\n"
     ]
    }
   ],
   "source": [
    "#Sorbitol\n",
    "medium = model.medium\n",
    "with model:\n",
    "    medium['BOUNDARY_GLCe'] = 0\n",
    "    medium['BOUNDARY_SORe'] = 20\n",
    "    model.medium = medium\n",
    "    solution7 = model.optimize()\n",
    "    print('Maximum theoretical biomass productivity:', solution7.fluxes['DRAIN_Biomass'], '/h') \n",
    "    \n",
    "    model.medium = medium\n",
    "    model.objective = model.reactions.r1976\n",
    "    yanD_production7 = model.optimize().objective_value\n",
    "    print('Maximum theoretical productivity of yanuthone D syshtesis:', yanD_production7, 'mmol/gDW*h')"
   ]
  },
  {
   "cell_type": "code",
   "execution_count": 107,
   "metadata": {},
   "outputs": [
    {
     "name": "stdout",
     "output_type": "stream",
     "text": [
      "Maximum theoretical biomass productivity: 11.819158274168265 /h\n",
      "Maximum theoretical productivity of yanuthone D syshtesis: 23.513565934654245 mmol/gDW*h\n"
     ]
    }
   ],
   "source": [
    "#Acetate\n",
    "medium = model.medium\n",
    "with model:\n",
    "    medium['BOUNDARY_GLCe'] = 0\n",
    "    medium['BOUNDARY_ACe'] = 60\n",
    " \n",
    "\n",
    "    model.medium = medium\n",
    "    solution8 = model.optimize()\n",
    "    print('Maximum theoretical biomass productivity:', solution8.fluxes['DRAIN_Biomass'], '/h')\n",
    "    \n",
    "    model.medium = medium\n",
    "    model.objective = model.reactions.r1976\n",
    "    yanD_production8 = model.optimize().objective_value\n",
    "    print('Maximum theoretical productivity of yanuthone D syshtesis:', yanD_production8, 'mmol/gDW*h')"
   ]
  },
  {
   "cell_type": "code",
   "execution_count": 108,
   "metadata": {},
   "outputs": [
    {
     "data": {
      "image/png": "[encoded data removed]",
      "text/plain": [
       "<Figure size 1000x600 with 2 Axes>"
      ]
     },
     "metadata": {},
     "output_type": "display_data"
    }
   ],
   "source": [
    "# Data for two categories\n",
    "biomass_values = [solution.fluxes['DRAIN_Biomass'],\n",
    "                   solution2.fluxes['DRAIN_Biomass'],\n",
    "                   solution3.fluxes['DRAIN_Biomass'],\n",
    "                   solution4.fluxes['DRAIN_Biomass'],\n",
    "                   solution5.fluxes['DRAIN_Biomass'],\n",
    "                   solution6.fluxes['DRAIN_Biomass'],\n",
    "                   solution7.fluxes['DRAIN_Biomass'],\n",
    "                   solution6.fluxes['DRAIN_Biomass']]\n",
    "\n",
    "yanD_values = [yanD_production,\n",
    "               yanD_production2,\n",
    "               yanD_production3,\n",
    "               yanD_production4,\n",
    "               yanD_production5,\n",
    "               yanD_production6,\n",
    "               yanD_production7,\n",
    "               yanD_production8]\n",
    "\n",
    "# Seting number of plots \n",
    "x_values = np.arange(len(biomass_values))\n",
    "\n",
    "# Width of the bars\n",
    "bar_width = 0.35\n",
    "\n",
    "\n",
    "# Set the figure size\n",
    "fig, ax1 = plt.subplots(figsize=(10, 6))  \n",
    "\n",
    "# Plotting the data\n",
    "# Plotting the data on the first y-axis\n",
    "ax1.bar(x_values - bar_width/2, biomass_values, bar_width, label='Growth rate', color='#6E8B3D')\n",
    "ax1.set_ylabel('Growth rate (1/h)')\n",
    "\n",
    "\n",
    "plt.legend(loc='upper left', bbox_to_anchor=(1, 1))\n",
    "# Create a second y-axis and plot the second set of data on it\n",
    "ax2 = ax1.twinx()\n",
    "ax2.bar(x_values + bar_width/2, yanD_values, bar_width, label='yanuthone D production rate', color='#FF8C00')\n",
    "ax2.set_ylabel('yanuthone D production rate /n (mmol/gDW/hr)')\n",
    "\n",
    "x_labels = [\"Glucose\", \"Fructose\", \"Sucorse\", \"Maltose\", \"Xylose\", \"Mannitol\", \"Sorbitol\", \"Acetate\"]\n",
    "\n",
    "# Adding labels and title\n",
    "# plt.title('C-source optimization', fontsize=18)\n",
    "\n",
    "# Display the legend\n",
    "plt.legend(loc='upper left', bbox_to_anchor=(1, 0.95))\n",
    "\n",
    "plt.xticks(np.arange(8), labels = x_labels)\n",
    "\n",
    "# Show the plot\n",
    "plt.show()\n"
   ]
  },
  {
   "cell_type": "markdown",
   "metadata": {},
   "source": [
    "### Potential supplements for enhancing yanuthoneD production "
   ]
  },
  {
   "cell_type": "markdown",
   "metadata": {},
   "source": [
    "#### Renew the default of medium composition (YES media)"
   ]
  },
  {
   "cell_type": "code",
   "execution_count": 109,
   "metadata": {},
   "outputs": [],
   "source": [
    "model.medium = YESmedium"
   ]
  },
  {
   "cell_type": "code",
   "execution_count": 110,
   "metadata": {},
   "outputs": [
    {
     "name": "stdout",
     "output_type": "stream",
     "text": [
      "Maximum theoretical biomass productivity: 15.37668318269276 /h\n",
      "Maximum theoretical productivity of yanuthone D syshtesis: 43.64345345474033 mmol/gDW*h\n"
     ]
    }
   ],
   "source": [
    "#Malate as precursor for yanuthoneD production \n",
    "medium = model.medium\n",
    "with model:\n",
    "    medium['BOUNDARY_MALe'] = 1000/4 #Devided by the C-atom\n",
    "\n",
    "    model.medium = medium\n",
    "    solution = model.optimize()\n",
    "    print('Maximum theoretical biomass productivity:', solution.fluxes['DRAIN_Biomass'], '/h')\n",
    "    \n",
    "    model.medium = medium\n",
    "    model.objective = model.reactions.r1976\n",
    "    yanD_production = model.optimize().objective_value\n",
    "    print('Maximum theoretical productivity of yanuthone D syshtesis:', yanD_production, 'mmol/gDW*h')"
   ]
  },
  {
   "cell_type": "code",
   "execution_count": 111,
   "metadata": {},
   "outputs": [
    {
     "name": "stdout",
     "output_type": "stream",
     "text": [
      "Maximum theoretical biomass productivity: 13.901115261822715 /h\n",
      "Maximum theoretical productivity of yanuthone D syshtesis: 48.66487820032116 mmol/gDW*h\n"
     ]
    }
   ],
   "source": [
    "#Acetate as precursor for yanuthoneD production \n",
    "medium = model.medium\n",
    "with model:\n",
    "    medium['BOUNDARY_ACe'] = 1000/2 #Devided by the C-atom\n",
    "\n",
    "    model.medium = medium\n",
    "    solution2 = model.optimize()\n",
    "    print('Maximum theoretical biomass productivity:', solution2.fluxes['DRAIN_Biomass'], '/h')\n",
    "    \n",
    "    model.medium = medium\n",
    "    model.objective = model.reactions.r1976\n",
    "    yanD_production2 = model.optimize().objective_value\n",
    "    print('Maximum theoretical productivity of yanuthone D syshtesis:', yanD_production2, 'mmol/gDW*h')"
   ]
  },
  {
   "cell_type": "code",
   "execution_count": 112,
   "metadata": {},
   "outputs": [
    {
     "name": "stdout",
     "output_type": "stream",
     "text": [
      "Maximum theoretical biomass productivity: 15.302322707018263 /h\n",
      "Maximum theoretical productivity of yanuthone D syshtesis: 53.39350701660435 mmol/gDW*h\n"
     ]
    }
   ],
   "source": [
    "#Octanate as precursor for yanuthoneD production \n",
    "medium = model.medium\n",
    "with model:\n",
    "    medium['BOUNDARY_C80e'] = 1000/8 #Devided by the C-atom\n",
    "\n",
    "    model.medium = medium\n",
    "    solution3 = model.optimize()\n",
    "    print('Maximum theoretical biomass productivity:', solution3.fluxes['DRAIN_Biomass'], '/h')\n",
    "    \n",
    "    model.medium = medium\n",
    "    model.objective = model.reactions.r1976\n",
    "    yanD_production3 = model.optimize().objective_value\n",
    "    print('Maximum theoretical productivity of yanuthone D syshtesis:', yanD_production3, 'mmol/gDW*h')"
   ]
  },
  {
   "cell_type": "code",
   "execution_count": 113,
   "metadata": {},
   "outputs": [
    {
     "name": "stdout",
     "output_type": "stream",
     "text": [
      "Maximum theoretical biomass productivity: 15.587478599955544 /h\n",
      "Maximum theoretical productivity of yanuthone D syshtesis: 44.437835497835906 mmol/gDW*h\n"
     ]
    }
   ],
   "source": [
    "#m-cresol as precursor for yanuthoneD production \n",
    "medium = model.medium\n",
    "with model:\n",
    "    medium['BOUNDARY_MCREe'] = 1000/7 #Devided by the C-atom\n",
    "\n",
    "    model.medium = medium\n",
    "    solution4 = model.optimize()\n",
    "    print('Maximum theoretical biomass productivity:', solution4.fluxes['DRAIN_Biomass'], '/h')\n",
    "    \n",
    "    model.medium = medium\n",
    "    model.objective = model.reactions.r1976\n",
    "    yanD_production4 = model.optimize().objective_value\n",
    "    print('Maximum theoretical productivity of yanuthone D syshtesis:', yanD_production4, 'mmol/gDW*h')"
   ]
  },
  {
   "cell_type": "code",
   "execution_count": 115,
   "metadata": {},
   "outputs": [
    {
     "data": {
      "image/png": "[encoded data removed]",
      "text/plain": [
       "<Figure size 1000x600 with 2 Axes>"
      ]
     },
     "metadata": {},
     "output_type": "display_data"
    }
   ],
   "source": [
    "# Data for two categories\n",
    "biomass_values = [solution.fluxes['DRAIN_Biomass'],\n",
    "                   solution2.fluxes['DRAIN_Biomass'],\n",
    "                   solution3.fluxes['DRAIN_Biomass'],\n",
    "                   solution4.fluxes['DRAIN_Biomass']]\n",
    "\n",
    "yanD_values = [yanD_production,\n",
    "               yanD_production2,\n",
    "               yanD_production3,\n",
    "               yanD_production4]\n",
    "\n",
    "# Seting number of plots \n",
    "x_values = np.arange(len(biomass_values))\n",
    "\n",
    "# Width of the bars\n",
    "bar_width = 0.3\n",
    "\n",
    "\n",
    "# Set the figure size\n",
    "fig, ax1 = plt.subplots(figsize=(10, 6))  \n",
    "\n",
    "# Plotting the data\n",
    "# Plotting the data on the first y-axis\n",
    "ax1.bar(x_values - bar_width/2, biomass_values, bar_width, label='Growth rate', color='#6E8B3D')\n",
    "ax1.set_ylabel('Growth rate (1/h)')\n",
    "\n",
    "\n",
    "plt.legend(loc='upper left', bbox_to_anchor=(1, 1))\n",
    "# Create a second y-axis and plot the second set of data on it\n",
    "ax2 = ax1.twinx()\n",
    "ax2.bar(x_values + bar_width/2, yanD_values, bar_width, label='yanuthone D production rate', color='#FF8C00')\n",
    "ax2.set_ylabel('yanuthone D production rate /n (mmol/gDW/hr)')\n",
    "\n",
    "x_labels = [\"Malate\", \"Acetate\", \"Octanate\", \"m-cresol\"]\n",
    "\n",
    "# Display the legend\n",
    "plt.legend(loc='upper left', bbox_to_anchor=(1, 0.95))\n",
    "\n",
    "plt.xticks(np.arange(4), labels = x_labels)\n",
    "\n",
    "# Show the plot\n",
    "plt.show()\n"
   ]
  }
 ],
 "metadata": {
  "kernelspec": {
   "display_name": "Python 3",
   "language": "python",
   "name": "python3"
  },
  "language_info": {
   "codemirror_mode": {
    "name": "ipython",
    "version": 3
   },
   "file_extension": ".py",
   "mimetype": "text/x-python",
   "name": "python",
   "nbconvert_exporter": "python",
   "pygments_lexer": "ipython3",
   "version": "3.10.0"
  }
 },
 "nbformat": 4,
 "nbformat_minor": 4
}
