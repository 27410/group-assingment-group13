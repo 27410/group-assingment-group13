{
 "cells": [
  {
   "cell_type": "markdown",
   "metadata": {},
   "source": [
    "## Medium optimization "
   ]
  },
  {
   "cell_type": "markdown",
   "metadata": {},
   "source": [
    "### Import the required libraries and the model."
   ]
  },
  {
   "cell_type": "code",
   "execution_count": 380,
   "metadata": {},
   "outputs": [
    {
     "name": "stderr",
     "output_type": "stream",
     "text": [
      "C:\\Users\\boysa\\AppData\\Local\\Temp\\ipykernel_26168\\189181901.py:5: MatplotlibDeprecationWarning: The seaborn styles shipped by Matplotlib are deprecated since 3.6, as they no longer correspond to the styles shipped by seaborn. However, they will remain available as 'seaborn-v0_8-<style>'. Alternatively, directly use the seaborn API instead.\n",
      "  plt.style.use('seaborn')\n",
      "'' is not a valid SBML 'SId'.\n"
     ]
    }
   ],
   "source": [
    "from cobra.io import read_sbml_model\n",
    "from cobra import Model, Reaction, Metabolite\n",
    "import pandas as pd\n",
    "import matplotlib.pyplot as plt\n",
    "plt.style.use('seaborn')\n",
    "%matplotlib inline\n",
    "\n",
    "\n",
    "model = read_sbml_model('2018_ATCC1015_GSM_iJB1325.xml') #The model is refered from (Brandl, J., Aguilar-Pontes, M. V., Schape, P., Norregaard, A., Arvas, M., Ram, A. F. J., Meyer, V., Tsang, A., de Vries, R. P., & Andersen, M. R. (2018). A community-driven reconstruction of the Aspergillus niger metabolic network. Fungal Biology and Biotechnology, 5, 16. )"
   ]
  },
  {
   "cell_type": "markdown",
   "metadata": {},
   "source": [
    "#### Introduce boundary conditiones"
   ]
  },
  {
   "cell_type": "code",
   "execution_count": 381,
   "metadata": {},
   "outputs": [
    {
     "data": {
      "text/html": [
       "\n",
       "        <table>\n",
       "            <tr>\n",
       "                <td><strong>Reaction identifier</strong></td><td>BOUNDARY_CUe</td>\n",
       "            </tr><tr>\n",
       "                <td><strong>Name</strong></td><td>Copper exchange</td>\n",
       "            </tr><tr>\n",
       "                <td><strong>Memory address</strong></td>\n",
       "                <td>0x24ae1d08310</td>\n",
       "            </tr><tr>\n",
       "                <td><strong>Stoichiometry</strong></td>\n",
       "                <td>\n",
       "                    <p style='text-align:right'>CUe <=></p>\n",
       "                    <p style='text-align:right'>Copper <=></p>\n",
       "                </td>\n",
       "            </tr><tr>\n",
       "                <td><strong>GPR</strong></td><td></td>\n",
       "            </tr><tr>\n",
       "                <td><strong>Lower bound</strong></td><td>-1000.0</td>\n",
       "            </tr><tr>\n",
       "                <td><strong>Upper bound</strong></td><td>1000.0</td>\n",
       "            </tr>\n",
       "        </table>\n",
       "        "
      ],
      "text/plain": [
       "<Reaction BOUNDARY_CUe at 0x24ae1d08310>"
      ]
     },
     "execution_count": 381,
     "metadata": {},
     "output_type": "execute_result"
    }
   ],
   "source": [
    "#Add extracellular metanolites\n",
    "PNTOe = Metabolite('PNTOe', formula='C9H17NO5', name='(R)-Pantothenate', compartment='e') \n",
    "model.add_metabolites([PNTOe])\n",
    "\n",
    "DHFe = Metabolite('DHFe', formula='C19H21N7O6', name='7,8-Dihydrofolate', compartment='e') \n",
    "model.add_metabolites([DHFe])\n",
    "\n",
    "PABAe = Metabolite('PABAe', formula='C7H7NO2', name='4-Aminobenzoate', compartment='e') \n",
    "model.add_metabolites([PABAe])\n",
    "\n",
    "PLe = Metabolite('PLe', formula='C8H9NO3', name='Pyridoxal', compartment='e') \n",
    "model.add_metabolites([PLe])\n",
    "\n",
    "RIBOFLAVe = Metabolite('RIBOFLAVe', formula='C17H20N4O6', name='Riboflavin', compartment='e') \n",
    "model.add_metabolites([RIBOFLAVe])\n",
    "\n",
    "#Add transport reactions\n",
    "r2392 = Reaction('r2392')\n",
    "r2392.name = '(R)-Pantothenate transport'\n",
    "r2392.subsystem = \"Transport\"\n",
    "r2392.lower_bound = -1000\n",
    "r2392.add_metabolites({PNTOe: -1.0, model.metabolites.PNTO: 1.0})\n",
    "\n",
    "r2393 = Reaction('r2393')\n",
    "r2393.name = '7,8-Dihydrofolate transport'\n",
    "r2393.lower_bound = -1000\n",
    "r2393.subsystem = 'Transport'\n",
    "r2393.add_metabolites({DHFe: -1.0, model.metabolites.DHF: 1.0})\n",
    "\n",
    "r2394 = Reaction('r2394')\n",
    "r2394.name = '4-Aminobenzoate transport'\n",
    "r2394.lower_bound = -1000\n",
    "r2394.subsystem = 'Transport'\n",
    "r2394.add_metabolites({PABAe: -1.0, model.metabolites.PABA: 1.0})\n",
    "\n",
    "r2395 = Reaction('r2395')\n",
    "r2395.name = 'Pyridoxal transport'\n",
    "r2395.lower_bound = -1000\n",
    "r2395.subsystem = 'Transport'\n",
    "r2395.add_metabolites({PLe: -1.0, model.metabolites.PL: 1.0})\n",
    "\n",
    "r2396 = Reaction('r2396')\n",
    "r2396.name = 'Riboflavin transport'\n",
    "r2396.lower_bound = -1000\n",
    "r2396.subsystem = 'Transport'\n",
    "r2396.add_metabolites({RIBOFLAVe: -1.0, model.metabolites.RIBOFLAV: 1.0})\n",
    "\n",
    "r2397 = Reaction('r2397')\n",
    "r2397.name = 'Copper transport'\n",
    "r2397.lower_bound = -1000\n",
    "r2397.subsystem = 'Transport'\n",
    "r2397.add_metabolites({model.metabolites.CUe: -1.0, model.metabolites.CU: 1.0})\n",
    "\n",
    "#Add boundary conditions\n",
    "model.add_boundary(model.metabolites.PNTOe, type=\"exchange\", reaction_id= \"BOUNDARY_PNTOe\")\n",
    "model.add_boundary(model.metabolites.DHFe, type=\"exchange\", reaction_id= \"BOUNDARY_DHFe\")\n",
    "model.add_boundary(model.metabolites.PABAe, type=\"exchange\", reaction_id= \"BOUNDARY_PABAe\")\n",
    "model.add_boundary(model.metabolites.PLe, type=\"exchange\", reaction_id= \"BOUNDARY_PLe\")\n",
    "model.add_boundary(model.metabolites.RIBOFLAVe, type=\"exchange\", reaction_id= \"BOUNDARY_RIBOFLAVe\")\n",
    "model.add_boundary(model.metabolites.CUe, type=\"exchange\", reaction_id= \"BOUNDARY_CUe\")"
   ]
  },
  {
   "cell_type": "markdown",
   "metadata": {},
   "source": [
    "#### Formulating the YES media (Control): \n",
    "The undefined composition of yeast extract in Yeast-Extract with Supplments (YES) media was assumed to be that of YNB media plus 20 amino acids and d-glucose (Suthers et al., 2020). "
   ]
  },
  {
   "cell_type": "code",
   "execution_count": 382,
   "metadata": {},
   "outputs": [],
   "source": [
    "medium_blank = {key: 0 for key in model.medium}\n",
    "YESmedium = medium_blank # Setup the object for YESmedium\n",
    "\n",
    "#Set the concentration for the amino acids\n",
    "YESmedium['BOUNDARY_GLCe'] = 20 \n",
    "YESmedium['BOUNDARY_ALAe'] = 10\n",
    "YESmedium['BOUNDARY_ARGe'] = 10\n",
    "YESmedium['BOUNDARY_ASPe'] = 10\n",
    "YESmedium['BOUNDARY_CYSe'] = 10\n",
    "YESmedium['BOUNDARY_GLUe'] = 10\n",
    "YESmedium['BOUNDARY_GLYe'] = 10\n",
    "YESmedium['BOUNDARY_HISe'] = 10\n",
    "YESmedium['BOUNDARY_ILEe'] = 10\n",
    "YESmedium['BOUNDARY_LEUe'] = 10\n",
    "YESmedium['BOUNDARY_LYSe'] = 10\n",
    "YESmedium['BOUNDARY_METe'] = 10\n",
    "YESmedium['BOUNDARY_PHEe'] = 10\n",
    "YESmedium['BOUNDARY_PROe'] = 10\n",
    "YESmedium['BOUNDARY_SERe'] = 10\n",
    "YESmedium['BOUNDARY_THRe'] = 10\n",
    "YESmedium['BOUNDARY_TRPe'] = 10\n",
    "YESmedium['BOUNDARY_TYRe'] = 10\n",
    "YESmedium['BOUNDARY_VALe'] = 10\n",
    "\n",
    "#Set the concentration for the supplements\n",
    "YESmedium['BOUNDARY_NH4e'] = 5 #Ammonium  \n",
    "YESmedium['BOUNDARY_SLFe'] = 5.5 #Sulfate\n",
    "YESmedium['BOUNDARY_BTe'] = 2/10**6 #Biotin \n",
    "YESmedium['BOUNDARY_PNTOe'] = 400/10**6 #Pantothenic Acid\n",
    "YESmedium['BOUNDARY_DHFe'] = 2/10**6 #Folic acid\n",
    "YESmedium['BOUNDARY_MYOIe'] = 4000/10**6 #myo-Inositol\n",
    "YESmedium['BOUNDARY_NICAe'] = 800/10**6 #Nicotinate\n",
    "YESmedium['BOUNDARY_PABAe'] = 400/10**6 #4-Aminobenzoate\n",
    "YESmedium['BOUNDARY_PLe'] = 800/10**6 #Pyridoxal\n",
    "YESmedium['BOUNDARY_RIBOFLAVe'] = 200/10**6 #Riboflavin\n",
    "YESmedium['BOUNDARY_THIAe'] = 800/10**6 #Thiamine\n",
    "YESmedium['BOUNDARY_CUe'] = 80/10**6 #Copper\n",
    "YESmedium['BOUNDARY_Ke'] = 2 #Potassium\n",
    "YESmedium['BOUNDARY_FE2e'] = 200/10**6 #Ferric \n",
    "YESmedium['BOUNDARY_MNe'] = 400/10**6 #Manganese\n",
    "YESmedium['BOUNDARY_MOe'] = 200/10**6 #Molybdate\n",
    "YESmedium['BOUNDARY_ZNe'] = 400/10**6 #Zinc\n",
    "YESmedium['BOUNDARY_PIe'] = 1 #Phosphate\n",
    "YESmedium['BOUNDARY_CAe'] = 0.4 #Calcium \n",
    "\n",
    "#Set the condition\n",
    "YESmedium['BOUNDARY_H2Oe'] = 1000 #Water\n",
    "YESmedium['BOUNDARY_O2e'] = 1000 #Oxygen \n",
    "\n",
    "# Setting YES as control medium\n",
    "model.medium = YESmedium\n"
   ]
  },
  {
   "cell_type": "markdown",
   "metadata": {},
   "source": [
    "#### Productivities using control medium (YES media):"
   ]
  },
  {
   "cell_type": "code",
   "execution_count": 383,
   "metadata": {},
   "outputs": [
    {
     "name": "stdout",
     "output_type": "stream",
     "text": [
      "Maximum theoretical biomass productivity: 9.609385536957785 /h\n",
      "Maximum theoretical productivity of yanuthone D syshtesis: 22.910706373861434 mmol/gDW*h\n"
     ]
    }
   ],
   "source": [
    "with model:\n",
    "    solution = model.optimize()\n",
    "    print('Maximum theoretical biomass productivity:', solution.fluxes['DRAIN_Biomass'], '/h')\n",
    "    \n",
    "    model.objective = model.reactions.r1976\n",
    "    yanD_production = model.optimize().objective_value\n",
    "    print('Maximum theoretical productivity of yanuthone D syshtesis:', yanD_production, 'mmol/gDW*h')"
   ]
  },
  {
   "cell_type": "markdown",
   "metadata": {},
   "source": [
    "### C-sourse optimization\n",
    "#### Productivities using the alternative carbon source:"
   ]
  },
  {
   "cell_type": "code",
   "execution_count": 384,
   "metadata": {},
   "outputs": [
    {
     "name": "stdout",
     "output_type": "stream",
     "text": [
      "Maximum theoretical biomass productivity: 9.609385536939687 /h\n",
      "Maximum theoretical productivity of yanuthone D syshtesis: 22.9107063738535 mmol/gDW*h\n"
     ]
    }
   ],
   "source": [
    "#Fructose\n",
    "medium = model.medium\n",
    "with model:\n",
    "    medium['BOUNDARY_GLCe'] = 0\n",
    "    medium['BOUNDARY_FRUe'] = 20\n",
    "    model.medium = medium_blank\n",
    "    solution2 = model.optimize()\n",
    "    print('Maximum theoretical biomass productivity:', solution2.fluxes['DRAIN_Biomass'], '/h')\n",
    "    \n",
    "    model.medium = medium_blank\n",
    "    model.reactions.BOUNDARY_FRUe.bounds = (0,1000)\n",
    "    model.objective = model.reactions.r1976\n",
    "    yanD_production2 = model.optimize().objective_value\n",
    "    print('Maximum theoretical productivity of yanuthone D syshtesis:', yanD_production2, 'mmol/gDW*h')\n",
    "    \n"
   ]
  },
  {
   "cell_type": "code",
   "execution_count": 385,
   "metadata": {},
   "outputs": [
    {
     "name": "stdout",
     "output_type": "stream",
     "text": [
      "Maximum theoretical biomass productivity: 9.609385536926544 /h\n",
      "Maximum theoretical productivity of yanuthone D syshtesis: 22.910706373861824 mmol/gDW*h\n"
     ]
    }
   ],
   "source": [
    "#Sucorse\n",
    "medium = model.medium\n",
    "with model:\n",
    "    medium['BOUNDARY_GLCe'] = 0\n",
    "    medium['BOUNDARY_SUCe'] = 20/2 #disaccharide\n",
    "    model.medium = medium\n",
    "    solution3 = model.optimize()\n",
    "    print('Maximum theoretical biomass productivity:', solution3.fluxes['DRAIN_Biomass'], '/h')\n",
    "    \n",
    "    model.medium = medium\n",
    "    model.objective = model.reactions.r1976\n",
    "    yanD_production3 = model.optimize().objective_value\n",
    "    print('Maximum theoretical productivity of yanuthone D syshtesis:', yanD_production3, 'mmol/gDW*h')"
   ]
  },
  {
   "cell_type": "code",
   "execution_count": 386,
   "metadata": {},
   "outputs": [
    {
     "name": "stdout",
     "output_type": "stream",
     "text": [
      "Maximum theoretical biomass productivity: 9.609385536935955 /h\n",
      "Maximum theoretical productivity of yanuthone D syshtesis: 22.91070637386182 mmol/gDW*h\n"
     ]
    }
   ],
   "source": [
    "#Maltose\n",
    "medium = model.medium\n",
    "with model:\n",
    "    medium['BOUNDARY_GLCe'] = 0\n",
    "    medium['BOUNDARY_MLTe'] = 20/2 #disaccharide\n",
    "    model.medium = medium\n",
    "    solution4 = model.optimize()\n",
    "    print('Maximum theoretical biomass productivity:', solution4.fluxes['DRAIN_Biomass'], '/h')\n",
    "  \n",
    "    model.medium = medium\n",
    "    model.objective = model.reactions.r1976\n",
    "    yanD_production4 = model.optimize().objective_value\n",
    "    print('Maximum theoretical productivity of yanuthone D syshtesis:', yanD_production4, 'mmol/gDW*h')"
   ]
  },
  {
   "cell_type": "code",
   "execution_count": 387,
   "metadata": {},
   "outputs": [
    {
     "name": "stdout",
     "output_type": "stream",
     "text": [
      "Maximum theoretical biomass productivity: 9.467015348944711 /h\n",
      "Maximum theoretical productivity of yanuthone D syshtesis: 22.512005249064078 mmol/gDW*h\n"
     ]
    }
   ],
   "source": [
    "#Xylose\n",
    "medium = model.medium\n",
    "with model:\n",
    "    medium['BOUNDARY_GLCe'] = 0\n",
    "    medium['BOUNDARY_XYLe'] = 20\n",
    "    model.medium = medium\n",
    "    solution5 = model.optimize()\n",
    "    print('Maximum theoretical biomass productivity:', solution5.fluxes['DRAIN_Biomass'], '/h')\n",
    "    \n",
    "    model.medium = medium\n",
    "    model.objective = model.reactions.r1976\n",
    "    yanD_production5 = model.optimize().objective_value\n",
    "    print('Maximum theoretical productivity of yanuthone D syshtesis:', yanD_production5, 'mmol/gDW*h')"
   ]
  },
  {
   "cell_type": "code",
   "execution_count": 388,
   "metadata": {},
   "outputs": [
    {
     "name": "stdout",
     "output_type": "stream",
     "text": [
      "Maximum theoretical biomass productivity: 9.663177799430427 /h\n",
      "Maximum theoretical productivity of yanuthone D syshtesis: 23.06134911621951 mmol/gDW*h\n"
     ]
    }
   ],
   "source": [
    "#Mannitol\n",
    "medium = model.medium\n",
    "with model:\n",
    "    medium['BOUNDARY_GLCe'] = 0\n",
    "    medium['BOUNDARY_MNTe'] = 20\n",
    "    model.medium = medium\n",
    "    solution6 = model.optimize()\n",
    "    print('Maximum theoretical biomass productivity:', solution6.fluxes['DRAIN_Biomass'], '/h')\n",
    "    \n",
    "    model.medium = medium\n",
    "    model.objective = model.reactions.r1976\n",
    "    yanD_production6 = model.optimize().objective_value\n",
    "    print('Maximum theoretical productivity of yanuthone D syshtesis:', yanD_production6, 'mmol/gDW*h')"
   ]
  },
  {
   "cell_type": "code",
   "execution_count": 389,
   "metadata": {},
   "outputs": [
    {
     "name": "stdout",
     "output_type": "stream",
     "text": [
      "Maximum theoretical biomass productivity: 9.609385536962531 /h\n",
      "Maximum theoretical productivity of yanuthone D syshtesis: 22.91070637387808 mmol/gDW*h\n"
     ]
    }
   ],
   "source": [
    "#Sorbitol\n",
    "medium = model.medium\n",
    "with model:\n",
    "    medium['BOUNDARY_GLCe'] = 0\n",
    "    medium['BOUNDARY_SORe'] = 20\n",
    "    model.medium = medium\n",
    "    solution7 = model.optimize()\n",
    "    print('Maximum theoretical biomass productivity:', solution7.fluxes['DRAIN_Biomass'], '/h') \n",
    "    \n",
    "    model.medium = medium\n",
    "    model.objective = model.reactions.r1976\n",
    "    yanD_production7 = model.optimize().objective_value\n",
    "    print('Maximum theoretical productivity of yanuthone D syshtesis:', yanD_production7, 'mmol/gDW*h')"
   ]
  },
  {
   "cell_type": "code",
   "execution_count": 390,
   "metadata": {},
   "outputs": [
    {
     "name": "stdout",
     "output_type": "stream",
     "text": [
      "Maximum theoretical biomass productivity: 9.66317779936835 /h\n",
      "Maximum theoretical productivity of yanuthone D syshtesis: 23.061349116229458 mmol/gDW*h\n"
     ]
    }
   ],
   "source": [
    "#Mannitol\n",
    "medium = model.medium\n",
    "with model:\n",
    "    medium['BOUNDARY_GLCe'] = 0\n",
    "    medium['BOUNDARY_MNTe'] = 20\n",
    " \n",
    "\n",
    "    model.medium = medium\n",
    "    solution6 = model.optimize()\n",
    "    print('Maximum theoretical biomass productivity:', solution6.fluxes['DRAIN_Biomass'], '/h')\n",
    "    \n",
    "    model.medium = medium\n",
    "    model.objective = model.reactions.r1976\n",
    "    yanD_production6 = model.optimize().objective_value\n",
    "    print('Maximum theoretical productivity of yanuthone D syshtesis:', yanD_production6, 'mmol/gDW*h')"
   ]
  },
  {
   "cell_type": "markdown",
   "metadata": {},
   "source": [
    "### Potential supplements for enhancing yanuthoneD production "
   ]
  },
  {
   "cell_type": "markdown",
   "metadata": {},
   "source": [
    "#### Renew the default of medium composition (YES media)"
   ]
  },
  {
   "cell_type": "code",
   "execution_count": 391,
   "metadata": {},
   "outputs": [],
   "source": [
    "model.medium = YESmedium"
   ]
  },
  {
   "cell_type": "code",
   "execution_count": 392,
   "metadata": {},
   "outputs": [
    {
     "name": "stdout",
     "output_type": "stream",
     "text": [
      "Maximum theoretical biomass productivity: 10.321236476954933 /h\n",
      "Maximum theoretical productivity of yanuthone D syshtesis: 24.904211997857587 mmol/gDW*h\n"
     ]
    }
   ],
   "source": [
    "#Malate as precursor for yanuthoneD production \n",
    "medium = model.medium\n",
    "with model:\n",
    "    medium['BOUNDARY_MALe'] = 100/4 #Devided by the C-atom\n",
    "\n",
    "    model.medium = medium\n",
    "    solution = model.optimize()\n",
    "    print('Maximum theoretical biomass productivity:', solution.fluxes['DRAIN_Biomass'], '/h')\n",
    "    \n",
    "    model.medium = medium\n",
    "    model.objective = model.reactions.r1976\n",
    "    yanD_production = model.optimize().objective_value\n",
    "    print('Maximum theoretical productivity of yanuthone D syshtesis:', yanD_production, 'mmol/gDW*h')"
   ]
  },
  {
   "cell_type": "code",
   "execution_count": 393,
   "metadata": {},
   "outputs": [
    {
     "name": "stdout",
     "output_type": "stream",
     "text": [
      "Maximum theoretical biomass productivity: 10.500544018499648 /h\n",
      "Maximum theoretical productivity of yanuthone D syshtesis: 25.406354472415465 mmol/gDW*h\n"
     ]
    }
   ],
   "source": [
    "#Acetate as precursor for yanuthoneD production \n",
    "medium = model.medium\n",
    "with model:\n",
    "    medium['BOUNDARY_ACe'] = 100/2 #Devided by the C-atom\n",
    "\n",
    "    model.medium = medium\n",
    "    solution = model.optimize()\n",
    "    print('Maximum theoretical biomass productivity:', solution.fluxes['DRAIN_Biomass'], '/h')\n",
    "    \n",
    "    model.medium = medium\n",
    "    model.objective = model.reactions.r1976\n",
    "    yanD_production = model.optimize().objective_value\n",
    "    print('Maximum theoretical productivity of yanuthone D syshtesis:', yanD_production, 'mmol/gDW*h')"
   ]
  },
  {
   "cell_type": "code",
   "execution_count": 394,
   "metadata": {},
   "outputs": [
    {
     "name": "stdout",
     "output_type": "stream",
     "text": [
      "Maximum theoretical biomass productivity: 10.513059531771862 /h\n",
      "Maximum theoretical productivity of yanuthone D syshtesis: 25.939522656667812 mmol/gDW*h\n"
     ]
    }
   ],
   "source": [
    "#Octanate as precursor for yanuthoneD production \n",
    "medium = model.medium\n",
    "with model:\n",
    "    medium['BOUNDARY_C80e'] = 100/8 #Devided by the C-atom\n",
    "\n",
    "    model.medium = medium\n",
    "    solution = model.optimize()\n",
    "    print('Maximum theoretical biomass productivity:', solution.fluxes['DRAIN_Biomass'], '/h')\n",
    "    \n",
    "    model.medium = medium\n",
    "    model.objective = model.reactions.r1976\n",
    "    yanD_production = model.optimize().objective_value\n",
    "    print('Maximum theoretical productivity of yanuthone D syshtesis:', yanD_production, 'mmol/gDW*h')"
   ]
  },
  {
   "cell_type": "code",
   "execution_count": 395,
   "metadata": {},
   "outputs": [
    {
     "name": "stdout",
     "output_type": "stream",
     "text": [
      "Maximum theoretical biomass productivity: 10.202466576847971 /h\n",
      "Maximum theoretical productivity of yanuthone D syshtesis: 26.231063708011042 mmol/gDW*h\n"
     ]
    }
   ],
   "source": [
    "#m-cresol as precursor for yanuthoneD production \n",
    "medium = model.medium\n",
    "with model:\n",
    "    medium['BOUNDARY_MCREe'] = 100/7 #Devided by the C-atom\n",
    "\n",
    "    model.medium = medium\n",
    "    solution = model.optimize()\n",
    "    print('Maximum theoretical biomass productivity:', solution.fluxes['DRAIN_Biomass'], '/h')\n",
    "    \n",
    "    model.medium = medium\n",
    "    model.objective = model.reactions.r1976\n",
    "    yanD_production = model.optimize().objective_value\n",
    "    print('Maximum theoretical productivity of yanuthone D syshtesis:', yanD_production, 'mmol/gDW*h')"
   ]
  }
 ],
 "metadata": {
  "kernelspec": {
   "display_name": "Python 3",
   "language": "python",
   "name": "python3"
  },
  "language_info": {
   "codemirror_mode": {
    "name": "ipython",
    "version": 3
   },
   "file_extension": ".py",
   "mimetype": "text/x-python",
   "name": "python",
   "nbconvert_exporter": "python",
   "pygments_lexer": "ipython3",
   "version": "3.10.0"
  }
 },
 "nbformat": 4,
 "nbformat_minor": 4
}
