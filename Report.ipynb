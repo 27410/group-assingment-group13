{
 "cells": [
  {
   "cell_type": "markdown",
   "metadata": {},
   "source": [
    "# Improvement on yanuthone D production in Aspergillus niger"
   ]
  },
  {
   "cell_type": "markdown",
   "metadata": {},
   "source": [
    "## 1. Introduction"
   ]
  },
  {
   "cell_type": "markdown",
   "metadata": {},
   "source": [
    "### 1.1 Literature review of the compound (<500 words)"
   ]
  },
  {
   "cell_type": "markdown",
   "metadata": {},
   "source": [
    "### 1.2 Literature review of the cell factory (<500 words)"
   ]
  },
  {
   "cell_type": "markdown",
   "metadata": {},
   "source": [
    "## 2. Problem definition\n",
    "\n",
    "\n",
    "Secondary metabolites may not be readily produced under laboratory conditions in species that are not fully characterized. Even if metabolites of interest are traceable, the lack of genetic tools for this species and the presence of similar metabolites complicate the gene mapping and characterization of the compound. Thus attention has been drawn to heterologous expression of novel metabolites in well-engineered cell factory.\n",
    "\n",
    "*A. niger* has been described to empower the production of organic acids and enzymes, which, moreover, has obtained GRAS status for use in several industrial processes (Dorte K. Holm, 2014). \n",
    "\n",
    "Genome sequencing and computational tools have been applied to the strain… The gene mining and pathway localization for specific metabolites have been difficult using only scattered sequencing data and uncurated annotation database. Moreover, the genome data and gene-protein-reaction associations (GPRs) are supported by unstructured experimental data. Therefore comprehensive genome-scale metabolic models (GEMs) integrating genome data, annotations and experimental data are required for automated testing and continuous improvements. However, the model will never be perfect as new genes and pathways are validated continuously, so that a model that can be easily updated is expected. "
   ]
  },
  {
   "cell_type": "markdown",
   "metadata": {},
   "source": [
    "## 3. Project category II:* Selection and assessment of existing GSM (<500 words)"
   ]
  },
  {
   "cell_type": "markdown",
   "metadata": {},
   "source": [
    "## 4. Computer-Aided Cell Factory Engineering (<1500 words if Category II project; <500 words for Category I project)"
   ]
  },
  {
   "cell_type": "markdown",
   "metadata": {},
   "source": [
    "## 5. Discussion (<500 words)"
   ]
  },
  {
   "cell_type": "markdown",
   "metadata": {},
   "source": [
    "## 6. Conclusion (<200 words)"
   ]
  },
  {
   "cell_type": "markdown",
   "metadata": {},
   "source": [
    "## References"
   ]
  },
  {
   "cell_type": "code",
   "execution_count": null,
   "metadata": {},
   "outputs": [],
   "source": []
  }
 ],
 "metadata": {
  "kernelspec": {
   "display_name": "python3.6",
   "language": "python",
   "name": "python3.6"
  },
  "language_info": {
   "codemirror_mode": {
    "name": "ipython",
    "version": 3
   },
   "file_extension": ".py",
   "mimetype": "text/x-python",
   "name": "python",
   "nbconvert_exporter": "python",
   "pygments_lexer": "ipython3",
   "version": "3.6.11"
  }
 },
 "nbformat": 4,
 "nbformat_minor": 4
}
