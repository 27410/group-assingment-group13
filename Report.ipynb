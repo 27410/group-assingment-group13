{
 "cells": [
  {
   "cell_type": "code",
   "execution_count": 2,
   "metadata": {},
   "outputs": [],
   "source": [
    "from IPython.display import FileLink, FileLinks"
   ]
  },
  {
   "cell_type": "markdown",
   "metadata": {},
   "source": [
    "# Improvement on yanuthone D production in Aspergillus niger"
   ]
  },
  {
   "cell_type": "markdown",
   "metadata": {},
   "source": [
    "## 1. Introduction"
   ]
  },
  {
   "cell_type": "markdown",
   "metadata": {},
   "source": [
    "### 1.1 Literature review of the compound "
   ]
  },
  {
   "cell_type": "markdown",
   "metadata": {},
   "source": [
    "Fungal polyketides represent a multifaceted array of compounds, exhibiting a spectrum of biological activities. While some, such as patulin and aflatoxins, pose health risks to humans, others like statins, mycophenolic acid, and enzyme inhibitors, offer significant medical potential. Despite the isolation and characterization of over 6,000 polyketides (PKs), it is believed that a plethora of these compounds remains undiscovered due to limited gene expression under conventional laboratory conditions (Holm et al., 2014).\n",
    "\n",
    "One of those 6,000 characterized PKs is Yanuthone D, a bioactive meroterpenoid and secondary metabolite from *Aspergillus niger*. It is a medically interesting compound as it posseses antibiotic properties against *Candida albinicans*, methicillin-resistant *Staphylococcus aureus* (MRSA), and vancomycin-resistant *Enterococcus* (Holm et al., 2014). Amongst all known yanuthones, it presents the higher potency against *C. albicans*, with a half-maximal inhibitory concentration (IC50) of 3.3 µM (Holm et al., 2014).\n",
    "\n",
    "Like many other secondary metabolites, yanuthone D’s formation is dependent on a cluster of genes (Holm et al., 2014). In this case, yanuthone D’s cluster is comprised of 10 genes, including *yanI* and *yanA*. \n",
    "\n",
    "Unlike previously theorized, yanuthone D is not derived from shikimic acid, but from the decarboxylation and oxidation of the polyketide 6-MSA and its later fusion to a sesquiterpene and a mevalon moiety (Holm et al., 2014).\n"
   ]
  },
  {
   "cell_type": "markdown",
   "metadata": {},
   "source": [
    "<!-- <div align=\"center\">\n",
    "  <img src=\"Pics/Biosynthetic pathway yanuthone D.svg\" alt=\"Alternative Text\" title=\"Figure 1: Biosynthetic pathway yanuthone D\" />\n",
    "</div> -->\n",
    "\n"
   ]
  },
  {
   "cell_type": "markdown",
   "metadata": {},
   "source": [
    "### 1.2 Literature review of the cell factory "
   ]
  },
  {
   "cell_type": "markdown",
   "metadata": {},
   "source": [
    "*Aspergillus niger* is a black fungus often responsible for food spoilage and feeds (Petersen et al., 2014). However, it is an industrially important cell factory with status “Generally Recognized As Safe” (GRAS). It is used industrially to produce citric acid (CA), gluconic acid and enzymes. As of 2020, it is the most widely production chassis of CA and a total of 19 enzymes are being expressed in this chassis for commercial purposes (Li et al., 2020). It is known to produce more than 100 secondary metabolites (Petersen et al., 2014), one of which is yanuthone D. It is a versatile microorganism because it can be grown in solid-state fermentation (SSF) and in submerged fermentation (SMF), under a wide range of pH (1.5 – 9.0) and also temperature (6 47 °C) (Li et al., 2020). \n",
    "\n",
    "Excellent protein secretion, food processing safety and low cost fermentation medium make it an industrially attractive cell factory. However, genetic engineering remains challenging due to non-homologous recombination as well as the presence of mycotoxins in selected *A. niger* strains. \n"
   ]
  },
  {
   "cell_type": "markdown",
   "metadata": {},
   "source": [
    "## 2. Problem definition\n",
    "\n",
    "\n",
    "Secondary metabolites may not be readily produced under laboratory conditions in species that are not fully characterized. Even if metabolites of interest are traceable, the lack of genetic tools for these species and the presence of similar metabolites complicate the gene mapping and characterization of the compound (Diana C.A. and Uffe H.M., 2015). Thus attention has been drawn to heterologous expression of novel metabolites in well-engineered cell factory.\n",
    "\n",
    "Due to the potential application of antibiotic yanuthone D and its commercial interest, we want to examine the feasibility of heterologous production of yanuthone D in an industrially relevant strain. It is vital that the organism chosen for cell factory has robust metabolic pathways. *Aspergillus niger* has been described to empower the production of organic acids and enzymes, which, moreover, has obtained GRAS status for use in several industrial processes (Dorte K. Holm et al., 2014). Therefore it is a preferred candidate for the cell factory. \n",
    "\n",
    "Genome sequencing and computational tools have been applied to the strain, and as a result, genomic data for isolates of *A. niger* are emerging and several metabolic networks were presented. However, the gene mining and pathway localization for specific metabolites have been difficult using only scattered sequencing data and uncurated annotation database. Moreover, the omics data and gene-protein-reaction associations (GPRs) are supported by unstructured experimental data. Therefore comprehensive genome-scale metabolic models (GSMs) integrating genome data, bibliomic data and experimental data are required for automated testing and continuous improvements. Nevertheless, models seem to never be perfect as new genes and pathways are validated continuously, so that a model that can be easily updated and reviewed is expected in the future. "
   ]
  },
  {
   "cell_type": "markdown",
   "metadata": {},
   "source": [
    "## 3. Selection and assessment of existing GSM\n",
    "\n",
    "\n",
    "A number of GSMs have been presented during the past decades, which include iHD20 (David, 2003), iMA871 (Andersen, 2008), iHL1210 (Lu, 2017), iJB1325 (Brandl, 2018), and iDU1756 (Upton, 2020). iHD20 is a quite primary model made 20 years ago, and it was made prior to the release of an *A. niger* genome sequence. As a consequence it only contained 20 ORFs concerning central metabolism as it is referred by the number in the model’s name. After the genome sequences of *A. niger* strain ATCC 1015 and CBS 513.88 were released, the first genome-scale model of *A. niger*, iMA871, was published. The model comprises 871 ORFs and 2240 reactions in total by including isoenzymes. Moreover, it combined the genomic and bibliomic information and novelly created a linkage between the metabolic network and literature regarding individual reactions.\n",
    "\n",
    "On the basis of iMA871 model, Lu *et al.* expanded the *A. niger* GSM by updating the latest annotation information from four major databases (KEGG, UniprotKB, AspGD, IMG). Accordingly, the number of unique ORFs increased from 871 to 1,210 with an addition of 384 reactions in the new iHL1210 model. Just shortly after this improvement, Brandl *et al.* reconstructed the model with further addition of ORFs and reactions from 876 publications, whose experimental information were organized in the XML format and separated into two classes for validation, which are evidence items and test cases. The resulting model, iJB1325, has a coverage of 2320 reactions, 1818 metabolites and 1325 genes. Furthermore they developed strain specific model for ATCC 1015 and CBS 513.88 using reciprocal best blast hits between the model and each genome of the strains. Notably, the model is compliant with the SBML standard which allows more versatility for users using different software.\n",
    "\n",
    "In a parallel track, another model, iDU1756 was constructed based on the latest genome data of strain ATCC 1015. It undergone a different annotation process that combined Blast2GO and KEGG Automatic Annotation Server to map genes to Enzyme Commission (EC) numbers, KEGG reactions, and KEGG Orthology (KO) terms. The resulting model has a smaller number of reactions and metabolites but a higher number of matched reactions that can be found precisely in previous models. The missing reactions in iDU1756 captured by iJB1325 were found mostly inactive under the conditions for simulation of organic acid fermentation. On the other hand, the reactions are collected from publications and validated regardless that there are inevitably some putative pathways. In this case, the iJB1325 is reliable to use although more reactions could lead to a larger space for flux variation. Considering the gene for yanuthone D is identified using *A. niger* ATCC1015, the strain specific model iJB1325 should be our choice of GSM. \n",
    "\n",
    "#### Model assessment by MEMOTE\n",
    "| A. niger strain | Total score (%) | Total reactions | Total metabolites | Total Genes | Metabolic coverage | Consistency score (%) | Annotation-metabolites score (%) | Annotation-reactions score (%) |\n",
    "|:----------------:|:----------------:|:------------------:|:---------------------:|:-------------:|:---------------------:|:------------------------:|:---------------------------------:|:----------------------------------:|\n",
    "| ATCC 1055        | 24               | 2320             | 1818                | 1325        | 1.75                | 42                     | 62                              | 48                               |\n"
   ]
  },
  {
   "cell_type": "code",
   "execution_count": null,
   "metadata": {},
   "outputs": [],
   "source": [
    "#Full script for Pathway validation\n",
    "FileLink(Analysis/Model_comparison/Model_comparison.html)"
   ]
  },
  {
   "cell_type": "markdown",
   "metadata": {},
   "source": [
    "## 4. Computer-Aided Cell Factory Engineering "
   ]
  },
  {
   "cell_type": "markdown",
   "metadata": {},
   "source": [
    "### 4.1 Pathway validation\n",
    "In accordance with the suggested biosynthesis pathway of yanuthoneD as the endogenous route in Aspergillus niger, as proposed by Holm et al. in 2014, this pathway has been employed as a benchmark to verify the accuracy of reaction steps, precursors, and end products within the Genome-Scale Metabolic Models (GEMs) of A. niger ATCC1015. The pathway integrated into the GEMs aligns precisely with the reactions delineated in the referenced study, affirming the reliability and consistency of the metabolic network representation within the metabolic models. \n",
    "\n"
   ]
  },
  {
   "cell_type": "code",
   "execution_count": null,
   "metadata": {},
   "outputs": [],
   "source": [
    "#Full script for Pathway validation\n",
    "FileLink(Analysis/Model_pathway_validation/Model_pathway_validation.ipynb)"
   ]
  },
  {
   "cell_type": "markdown",
   "metadata": {},
   "source": [
    "### 4.2 Medium optimizaticon \n",
    "The composition of medium significantly impact the biosynthesis of the secondary metabolites in the microorganism, insufficiency in the core metabolites could lead to metabolic shfit. Therefore, Yeas Extract Peptone Dextrose (YEPD) meidum were formulated as common medium in this study. However, due to the complicated in the formulation of yeast extract in YEPD, YNB used as reference with addition of 20 essentail amino acids (Seo et al., 2007). "
   ]
  },
  {
   "cell_type": "markdown",
   "metadata": {},
   "source": [
    "<div align=\"center\">\n",
    "  <img src=\"Analysis/Medium_optimization/C-sourse_opt.png\" alt=\"Alternative Text\" title=\"Title Text\" />\n",
    "  <p>Figure 4: Carbon source optimization</p>\n",
    "</div>\n"
   ]
  },
  {
   "cell_type": "markdown",
   "metadata": {},
   "source": [
    "Various carbon sources, including monosaccharides, disaccharides, and acetate, underwent experimentation with optimization objectives focused on both growth rate and yanuthone D production. To mitigate the impact of substrate variation, the quantities of substrates were standardized by carbon atom equivalents to glucose. As depicted in Figure 4, no significant disparities were observed in either growth rate or yanuthone D production rate across the eight tested carbon sources. However, it is crucial to acknowledge that these findings may not accurately reflect biological realities, primarily due to the absence of constraints imposed on boundary reactions within the metabolic model."
   ]
  },
  {
   "cell_type": "markdown",
   "metadata": {},
   "source": [
    "<div align=\"center\">\n",
    "  <img src=\"Analysis/Medium_optimization/Precursor_add.png\" alt=\"Alternative Text\" title=\"Title Text\" />\n",
    "  <p>Figure 5: Precursor addition optimization</p>\n",
    "</div>\n"
   ]
  },
  {
   "cell_type": "markdown",
   "metadata": {},
   "source": [
    "In the pursuit of optimizing yanuthone D biosynthesis beyond carbon sources, the investigation delved into four potential precursors: malate, acetate, octanate, and m-cresol. The underlying hypothesis posited that these compounds could enhance the production rate of yanuthone D by serving as precursors or intermediates within the Yanothones pathway.\n",
    "\n",
    "The introduction of malate and acetate was anticipated to channel fluxes toward the synthesis of malonyl-CoA and acetyl-CoA, respectively, as substrates for 6-MSA synthesis, the initial intermediate in the Yanothones pathway (Guay et al., 2007). Similarly, octanate was expected to bolster the flux leading to 6-MSA. Remarkably, m-cresol, identified as the second intermediate in the Yanothones pathway, was predicted to yield the highest synthesis rate of yanuthone D, with octanol emerging as the precursor associated with the highest production rate with the doubling compared to the reference."
   ]
  },
  {
   "cell_type": "code",
   "execution_count": null,
   "metadata": {},
   "outputs": [],
   "source": [
    "#Full script for Pathway validation\n",
    "FileLink(Analysis/Medium_optimization/Medium_optimization.ipynb.ipynb)"
   ]
  },
  {
   "cell_type": "markdown",
   "metadata": {},
   "source": [
    "### 4.3 Maximum theoritical yield\n",
    "Based on the information provided earlier, the formulated medium (YEPD) served as the basis for calculating the maximum theoretical yield for biomass productivity, yanuthone D productivity, and the overall maximum theoretical yield. These values represent the upper limits that can be achieved under the specified conditions. The comprehensive assessment provides valuable insights into the potential capabilities of the YEPD medium in supporting biomass and yanuthone D production, aiding in the optimization and design of biological processes for enhanced yields. \n",
    "\n",
    "|                                                  | YEPD medium                                      |\n",
    "|--------------------------------------------------|:-------------------------------------------------:|\n",
    "| Maximum Theoretical Biomass Productivity (mmol * gDW<sup>-1</sup> h<sup>-1</sup>) | 11.89 |\n",
    "| Maximum Theoretical yanuthone D Productivity (mmol * gDW<sup>-1</sup> h<sup>-1</sup>) | 20.52 |\n",
    "| Maximum Theoretical Yield (mmol-psi * mmol-carbon<sup>-1</sup>) | 0.12 |\n",
    "\n",
    "\n",
    "\n"
   ]
  },
  {
   "cell_type": "code",
   "execution_count": null,
   "metadata": {},
   "outputs": [],
   "source": [
    "#Full script for Pathway validation\n",
    "FileLink(Analysis/Maximum_theoritical_yield)"
   ]
  },
  {
   "cell_type": "markdown",
   "metadata": {},
   "source": [
    "### 4.4 Phenotypic phase planes analysis - PhPP\n",
    "The analysis of the phenotype phase plane contributes to an enhanced comprehension of the distribution of metabolic flux within a system. This analytical approach involves the calculation of phenotype phase planes, wherein all conceivable values of two variables characterizing the cellular environment are considered (Edwards et al., 2001). In the context of this analysis, glucose and oxygen uptake rates were identified as the primary variables, crucial for understanding the prevailing conditions within the culture medium."
   ]
  },
  {
   "cell_type": "markdown",
   "metadata": {},
   "source": [
    "<div style=\"text-align:center\">\n",
    "    <img src=\"Analysis/Phenotypic_phase_planes/PPP_biomass.png\" alt=\"PhPP analysis on growth rate\" />\n",
    "    <p>Figure 6: PhPP analysis on growth rate</p>\n",
    "</div>\n"
   ]
  },
  {
   "cell_type": "markdown",
   "metadata": {},
   "source": [
    "The findings obtained from the Phenotype Phase Plane analysis concerning to growth rates suggest a positive correlation between heightened glucose and oxygen uptake rates, leading to an overall increase in the growth rate. Nonetheless, it is noteworthy that a substantial flux in glucose uptake rate under oxygen-limiting conditions may result in a lower growth rate. This analysis facilitates the determination of the optimal amount of oxygen required per mmol of glucose uptake to achieve the maximum growth rate. The line of optimality is established by identifying the shortest path from the minimum to the maximum values or the conditions that yield the highest growth rate."
   ]
  },
  {
   "cell_type": "markdown",
   "metadata": {},
   "source": [
    "<div style=\"text-align:center\">\n",
    "    <img src=\"Analysis/Phenotypic_phase_planes/PPP_yanD.png\" alt=\"PhPP analysis on yanuthone D production rate\" />\n",
    "    <p>Figure 7: PhPP analysis on yanuthone D production rate</p>\n",
    "</div>\n"
   ]
  },
  {
   "cell_type": "markdown",
   "metadata": {},
   "source": [
    "On the otherhand, the examination of yanuthone D production has demonstrated required of a lower flux in glucose uptake rate coupled with an elevated demand for oxygen uptake rate to yield the highest yanuthone D production rate compared to the growth rate. Based on the outcomes, it can be inferred that yanuthone D production reveals a substantial reliance on oxygen availability without an overflow in glucose metabolism. "
   ]
  },
  {
   "cell_type": "code",
   "execution_count": null,
   "metadata": {},
   "outputs": [],
   "source": [
    "#Full script for Pathway validation\n",
    "FileLink(Analysis/Phenotypic_phase_planes/Phenotype_phase_plane.ipynb)"
   ]
  },
  {
   "cell_type": "markdown",
   "metadata": {},
   "source": [
    "### 4.5 Predicted genes for manipulations\n",
    "\n",
    "Several algorithms have been proposed to predict target genes for various genetic manipulations, including gene knock-ins, knockouts, as well as targets for overexpression and downregulation. These algorithms aim to enhance the yield of the desired product. Flux scanning based on enforced objective flux (FSEO) and Optknonck were used to indentified the potential genes for improve the yield of yanuthone D production."
   ]
  },
  {
   "cell_type": "markdown",
   "metadata": {},
   "source": [
    "#### **Flux scanning based on enforced objective flux - FSEOF**"
   ]
  },
  {
   "cell_type": "markdown",
   "metadata": {},
   "source": [
    "In the realm of metabolic engineering for improving strains to produce specific bioproducts, pinpointing genes for deletion or amplification is crucial. While various methods have existed to identify genes suitable for deletion using genome-scale metabolic models and flux analysis, finding gene targets for amplification has been a challenging task. However, a new strategy, termed flux scanning based on enforced objective flux (FSEOF), has been introduced. FSEOF methodically examines all metabolic fluxes within the model and identifies those that rise when the flux directing the production of the desired product is enforced as an additional constraint during flux analysis (Choi et al., 2010)\n",
    "\n",
    "#### Targets for overexpression \n",
    "\n",
    "| Reaction ID | Description                                   | Catalytic reaction                                   |\n",
    "|-------------|:-:|:-:|\n",
    "| r1147       | Acetate diffusion                         | Diffusion of acetate from cytoplasm to mitochondrial                          |\n",
    "| r862       | 3-hydroxy-3-methylglutaryl coenzyme A synthase                         | Convert (S)-3-Hydroxy-3-methylglutaryl-CoA to Mevalonate and Coenzyme A with presence of 2 NADPH                           |\n",
    "| r861       | 3-hydroxy-3-methylglutaryl coenzyme A synthase                            | Convert Acetoacetyl coenzyme A and Acetyl coenzyme A to Coenzyme A and (S)-3-Hydroxy-3-methylglutaryl-CoA with presence of water                  |\n",
    "| r671        | Acetyl-CoA C-acetyltransferase          | Convert 2 Acetyl coenzyme A to Acetoacetyl coenzyme A and Coenzyme A                        |\n",
    "| r864       |Phosphomevalonate kinase                   | Convert mevalonate 5-phosphate and ATP to mevalonate 5-diphosphate and ADP                |\n",
    "\n",
    "\n",
    "#### Targets for downregulation \n",
    "\n",
    "| Reaction ID | Description                                   | Catalytic reaction                                   |\n",
    "|-------------|:-:|:-:|\n",
    "| r32c      | Aconitate hydratase                        | Convert Citrate to cis-Aconitate and water in cytoplasm                    |\n",
    "| r33c       | Aconitate hydratase                       | Convert cis-Aconitate to Isocitrate and water in cytoplasm                         |\n",
    "\n",
    "The target reactions involving both overexpression and downregulation suggests a hypothesis that the bottleneck in yanuthone D production may lie in **mevalonate synthesis**. This proposition is grounded in the observation that all target reactions influence the synthesis of mevalonate, a crucial intermediate in the production pathway of yanuthone D. "
   ]
  },
  {
   "cell_type": "code",
   "execution_count": null,
   "metadata": {},
   "outputs": [],
   "source": [
    "#Full script for Pathway validation\n",
    "FileLink(Analysis/Pridicted_genes_for_manipulation/FSEOF.ipynb)"
   ]
  },
  {
   "cell_type": "markdown",
   "metadata": {},
   "source": [
    "#### **Optknock**\n",
    "OptKnock suggests gene deletion strategies leading to the overproduction of a pre-specified metabolite using the provided metabolic model. A nested optimization framework identifies the gene deletions by coupling the production of the desired product with biomass formation. The suggested target reaction from the Optknock is Nicotinate mononucleotide pyrophosphorylase, the primary reaction in **NAD+ biosynthesis**. \n"
   ]
  },
  {
   "cell_type": "markdown",
   "metadata": {},
   "source": [
    "<div style=\"text-align:center\">\n",
    "    <img src=\"Analysis/Pridicted_genes_for_manipulation/Optknock.png\" alt=\"Product envelope from Optknock\" />\n",
    "    <p>Figure 8: Product envelope from Optknock</p>\n",
    "</div>"
   ]
  },
  {
   "cell_type": "markdown",
   "metadata": {},
   "source": [
    "As a crucial coenzyme, NAD+ plays a pivotal role in the regulation of metabolic pathways, specifically in glycolysis and the Krebs cycle. Hence, the homeostasis of NAD+ levels demands careful control (Munk et al., 2023). However, the result from Optknock could suggest a potential competition for substrates, such as acetyl-CoA, originating from a shared pool, thereby influencing the balance between biomass formation and the synthesis of yanuthone D. These findings align with the insights provided by ***Phenotype Phase Plane analysis***, further emphasizing their relevance to the optimization of yanuthone D production."
   ]
  },
  {
   "cell_type": "code",
   "execution_count": null,
   "metadata": {},
   "outputs": [],
   "source": [
    "#Full script for Pathway validation\n",
    "FileLink(Analysis/Phenotypic_phase_planes/Phenotype_phase_plane.ipynb)"
   ]
  },
  {
   "cell_type": "markdown",
   "metadata": {},
   "source": [
    "### 4.6 Genetic manipulation"
   ]
  },
  {
   "cell_type": "markdown",
   "metadata": {},
   "source": [
    "Concerning the recommended target reactions from FSEOF and Optknock, a heuristic gene deletion simulation was conducted to evaluate the potential enhancement of yanuthone D production rates. Among all the combinations tested, the singular overexpression of 3-hydroxy-3-methylglutaryl coenzyme A synthase (r862) demonstrated promising potential for improving yanuthone D production while maintaining an acceptable growth rate."
   ]
  },
  {
   "cell_type": "markdown",
   "metadata": {},
   "source": [
    "<div style=\"text-align:center\">\n",
    "    <img src=\"Analysis/Pridicted_genes_for_manipulation/Genetic_manipulation.png\" alt=\"Product envelope from Optknock\" />\n",
    "    <p>Figure 9: Product envelope from r862 Overexpression</p>"
   ]
  },
  {
   "cell_type": "markdown",
   "metadata": {},
   "source": [
    "In addition to overexpressing the 3-hydroxy-3-methylglutaryl coenzyme A synthase, two other potential targets for overexpression have been suggested, namely Acetyl-CoA C-acetyltransferase and Phosphomevalonate kinase.\n",
    "\n",
    "Prposed target for gentic engineering \n",
    "| Reaction ID | Target gene                                | Reactions                               |Type of regulation| EC number|\n",
    "|:-:|:-:|:-:|:-:|:-:|\n",
    "| r671       | Acetyl-CoA C-acetyltransferase          | 2.0 Acetyl coenzyme A --> Acetoacetyl coenzyme A + Coenzyme A              |        Overexpression      | 2.3.1.9          |\n",
    "| r862       | 3-hydroxy-3-methylglutaryl coenzyme A synthase                      |(S)-3-Hydroxy-3-methylglutaryl-CoA + 2.0 NADPH <=> Coenzyme A + (R)-Mevalonate + 2.0 NADP+   | Overexpression  |1.1.1.34|\n",
    "| r864       | Phosphomevalonate kinase                   | ATP + (R)-5-Phosphomevalonate --> ADP + (R)-5-Diphosphomevalonate     |   Overexpression  |2.7.4.2|\n",
    "\n",
    "\n"
   ]
  },
  {
   "cell_type": "code",
   "execution_count": null,
   "metadata": {},
   "outputs": [],
   "source": [
    "#Full script for Pathway validation\n",
    "FileLink(Analysis/Pridicted_genes_for_manipulation/Genetic_manipulation.ipynb)"
   ]
  },
  {
   "cell_type": "markdown",
   "metadata": {},
   "source": [
    "### 4.7 Dynamic Flux Balance Analysis - DFBA"
   ]
  },
  {
   "cell_type": "markdown",
   "metadata": {},
   "source": [
    "Dynamic Flux Balance Analysis (DFBA), an extension of classical Flux Balance Analysis (Henson & Hanly, 2013), enables the prediction and optimization of the dynamic effects of the extracellular environment on microbial metabolism. In this study, three key parameters—biomass, glucose, and yanuthone D—were dynamically parameterized using the previously proposed strain featuring the overexpression of r862. DFBA was conducted under two distinct conditions: one with a limited oxygen supply (10 mmol/gDCW h) and the other optimized for oxygen availability (40 mmol/gDCW h).\n",
    "\n",
    "The experimental setup aimed to validate insights gained from Phenotype Phase Plane (PPhP) analysis. Figure 10 illustrates that, while the growth rate remains statistically unchanged between the two conditions, there's a modest reduction in glucose consumption under optimal oxygen conditions. This reduction suggests that insufficient oxygen availability hinders yanuthone D synthesis. DFBA results confirm observations from PPhP, emphasizing the intricate relationship between oxygen levels and yanuthone D production."
   ]
  },
  {
   "cell_type": "markdown",
   "metadata": {},
   "source": [
    "<div style=\"text-align:center\">\n",
    "    <img src=\"Analysis/DFBA/DFBA.png\" alt=\"Product envelope from Optknock\" />\n",
    "    <p>Figure 10: dotted lines represent limited oxygen availability, while solid lines indicate optimal oxygen conditions for yanuthone D production in the DFBA analysis.</p>"
   ]
  },
  {
   "cell_type": "markdown",
   "metadata": {},
   "source": [
    "DFBA provides an understanding of how microbial metabolism dynamically responds to varying oxygen levels, shedding light on the regulatory mechanisms governing yanuthone D production. These dynamic insights not only align with PPhP analysis but also offer a concise yet comprehensive view of the dynamic behaviors of microbial metabolism during yanuthone D synthesis."
   ]
  },
  {
   "cell_type": "code",
   "execution_count": null,
   "metadata": {},
   "outputs": [],
   "source": [
    "#Full script for Pathway validation\n",
    "FileLink(Analysis/Pridicted_genes_for_manipulation/Genetic_manipulation.ipynb)"
   ]
  },
  {
   "cell_type": "markdown",
   "metadata": {},
   "source": [
    "## 5. Discussion\n",
    "The optimization of cellular environments, particularly the composition of the growth medium, is pivotal in influencing the biosynthesis of secondary metabolites in microorganisms. The study focused on the antibiotic yanuthone D production in the native host A. niger, emphasizing the profound impact of medium composition on metabolic shifts. Yeast Extract Peptone Dextrose (YEPD) medium, a commonly used formulation, was chosen for its simplicity. However, the complex nature of yeast extract in YEPD led to the utilization of Yeast Nitrogen Base (YNB) as a reference with the addition of essential amino acids. Experimentation with various carbon sources revealed no significant disparities in growth or yanuthone D production rates, although it is essential to acknowledge the potential constraints imposed by the metabolic model.\n",
    "\n",
    "In exploring potential precursors, malate, acetate, octanate, and m-cresol were investigated. The hypothesis posited that these compounds could enhance yanuthone D production by influencing key intermediates in the yanuthone pathway. Interestingly, m-cresol, identified as the second intermediate in the pathway, exhibited the highest predicted synthesis rate for yanuthone D. These findings underscore the complexity of precursor interactions within the pathway, providing valuable insights for further metabolic engineering.\n",
    "\n",
    "Furthermore, the Phenotype Phase Plane analysis offered a deeper understanding of the metabolic flux distribution. Positive correlations between increased glucose and oxygen uptake rates and growth rates were identified. However, a substantial glucose flux under oxygen-limiting conditions resulted in lower growth rates. This analysis provided critical insights into oxygen demand for maximum growth rates. For yanuthone D production, a lower glucose flux coupled with increased oxygen demand was essential, emphasizing the significance of oxygen availability in product formation.\n",
    "\n",
    "The identification of target genes through FSEOF and Optknock revealed the potential bottleneck in yanuthone D production—mevalonate synthesis. The proposed overexpression of 3-hydroxy-3-methylglutaryl coenzyme A synthase demonstrated promising results in enhancing yanuthone D production without compromising growth rates. Additionally, suggested targets for overexpression, Acetyl-CoA C-acetyltransferase and Phosphomevalonate kinase, further contributed to the optimization hypothesis.\n",
    "\n",
    "In conclusion, this comprehensive analysis integrated experimental results with computational predictions, providing a holistic understanding of yanuthone D production in A. niger. The proposed strategies, validated through simulations, offer a roadmap for future genetic manipulations and medium optimizations in laboratory based experiments."
   ]
  },
  {
   "cell_type": "markdown",
   "metadata": {},
   "source": [
    "## 6. Conclusion \n",
    "In conclusion, the study adeptly harmonized experimental findings and computational predictions, unveiling the intricate interplay of medium composition and genetic factors in yanuthone D production by A. niger. Through meticulous experimentation with various carbon sources and precursors, m-cresol emerged as a promising intermediate, shedding light on the complex dynamics of the synthesis pathway. Phenotype Phase Plane analysis illuminated the nuanced relationship between glucose, oxygen, and growth rates, with distinct requirements for optimal yanuthone D production. Target gene identification via FSEOF and Optknock pinpointed mevalonate synthesis as a potential bottleneck, validating the efficacy of the proposed overexpression of 3-hydroxy-3-methylglutaryl coenzyme A synthase. DFBA, extending the analysis temporally, affirmed the significance of oxygen availability in yanuthone D synthesis. Collectively, these insights form a robust foundation for future wet lab experiments, offering a roadmap for strategic genetic manipulations and medium optimizations to enhance yanuthone D production in A. niger."
   ]
  },
  {
   "cell_type": "markdown",
   "metadata": {},
   "source": [
    "## 7. References"
   ]
  },
  {
   "cell_type": "markdown",
   "metadata": {},
   "source": [
    "Holm, D. K., Petersen, L. M., Klitgaard, A., Knudsen, P. B., Jarczynska, Z. D., Nielsen, K. F., Gotfredsen, C. H., Larsen, T. O., &amp; Mortensen, U. H. (2014). Molecular and chemical characterization of the biosynthesis of the 6-MSA-derived meroterpenoid yanuthone D in aspergillus niger. Chemistry &amp;amp; Biology, 21(4), 519–529. https://doi.org/10.1016/j.chembiol.2014.01.013 \n",
    "\n",
    "Li, C., Zhou, J., Du, G., Chen, J., Takahashi, S., &amp; Liu, S. (2020). Developing aspergillus niger as a cell factory for food enzyme production. Biotechnology Advances, 44, 107630. https://doi.org/10.1016/j.biotechadv.2020.107630 \n",
    "\n",
    "Petersen, L. M., Holm, D. K., Knudsen, P. B., Nielsen, K. F., Gotfredsen, C. H., Mortensen, U. H., &amp; Larsen, T. O. (2014). Characterization of four new antifungal yanuthones from aspergillus niger. The Journal of Antibiotics, 68(3), 201–205. https://doi.org/10.1038/ja.2014.130 \n",
    "\n",
    "Holm, D. K., Petersen, L. M., Klitgaard, A., Knudsen, P. B., Jarczynska, Z. D., Nielsen, K. F., Mortensen, U. H. (2014). Molecular and chemical characterization of the biosynthesis of the 6-MSA-derived meroterpenoid yanuthone D in Aspergillus niger. Chemistry & Biology, 21(4), 519–529. https://doi.org/10.1016/j.chembiol.2014.01.013\n",
    "\n",
    "Hong, S. K., Lee, H. J., Park, H. J., Hong, Y. A., Rhee, I. K., Lee, W. H., Choi, S. W., Lee, O. S., &amp; Park, H. D. (2010). Degradation of malic acid in wine by immobilizedissatchenkia orientaliscells with oriental oak charcoal and alginate. Letters in Applied Microbiology, 50(5), 522–529. https://doi.org/10.1111/j.1472-765x.2010.02833.x \n",
    "\n",
    "Guay, C., Madiraju, S. R. M., Aumais, A., Joly, É., & Prentki, M. (2007). A role for ATP-citrate lyase, malic enzyme, and pyruvate/citrate cycling in glucose-induced insulin secretion. Journal of Biological Chemistry, 282(49), 35657–35665. https://doi.org/10.1074/jbc.M707294200\n",
    "\n",
    "Edwards, J. S., Ramakrishna, R., & Palsson, B. O. (2001). Characterizing the Metabolic Phenotype: A Phenotype Phase Plane Analysis. Journal of Systems Biology, 5(2), 123-135. https://doi.org/10.1002/bit.10047\n",
    "\n",
    "Choi, H. S., Lee, S. Y., Kim, T. Y., & Woo, H. M. (2010). In Silico Identification of Gene Amplification Targets for Improvement of Lycopene Production. Applied and Environmental Microbiology, 76(10). https://doi.org/10.1128/AEM.00115-10\n",
    "\n",
    "Munk, S. H. N., Merchut-Maya, J. M., Adelantado Rubio, A., Hall, A., Pappas, G., Milletti, G., Lee, M., Johnsen, L. G., Guldberg, P., Bartek, J., & Maya-Mendoza, A. (2023). NAD+ regulates nucleotide metabolism and genomic DNA replication. Nature Cell Biology. https://doi.org/10.1038/s41556-023-01280-z\n",
    "\n",
    "Chiang YM, Meyer KM, Praseuth M, Baker SE, Bruno KS, Wang CC. Characterization of a polyketide synthase in Aspergillus niger whose product is a precursor for both dihydroxynaphthalene (DHN) melanin and naphtho-γ-pyrone. Fungal Genet Biol. 2011 Apr;48(4):430-7. https://doi.org/10.1016/j.fgb.2010.12.001. \n",
    "\n",
    "Upton DJ, McQueen-Mason SJ, Wood AJ. In silico evolution of Aspergillus niger organic acid production suggests strategies for switching acid output. Biotechnol Biofuels. 2020 Feb 24;13:27. https://doi.org/10.1186/s13068-020-01678-z. \n",
    "\n",
    "Brandl J, Aguilar-Pontes MV, Schäpe P, Noerregaard A, Arvas M, Ram AFJ, Meyer V, Tsang A, de Vries RP, Andersen MR. A community-driven reconstruction of the Aspergillus niger metabolic network. Fungal Biol Biotechnol. 2018 Sep 26;5:16. https://doi.org/10.1186/s40694-018-0060-7. \n",
    "\n",
    "Henson MA, Hanly TJ. Dynamic flux balance analysis for synthetic microbial communities. IET Syst Biol. 2014 Oct;8(5):214-29. https://doi.org/10.1049/iet-syb.2013.0021.\n",
    "\n",
    "Mahadevan R, Edwards JS, Doyle FJ 3rd. Dynamic flux balance analysis of diauxic growth in Escherichia coli. Biophys J. 2002 Sep;83(3):1331-40. https://doi.org/10.1016/S0006-3495(02)73903-9.\n",
    "\n",
    "Wang G, Kell DB, Borodina I. Harnessing the yeast Saccharomyces cerevisiae for the production of fungal secondary metabolites. Essays Biochem. 2021 Jul 26;65(2):277-291. https://doi.org/10.1042/EBC20200137.\n",
    "\n",
    "Guzmán-Chávez F, Zwahlen RD, Bovenberg RAL, Driessen AJM. Engineering of the Filamentous Fungus Penicillium chrysogenum as Cell Factory for Natural Products. Front Microbiol. 2018 Nov 15;9:2768.  https://doi.org/10.3389/fmicb.2018.02768.\n",
    "\n",
    "\n",
    "\n",
    "\n",
    "\n"
   ]
  }
 ],
 "metadata": {
  "kernelspec": {
   "display_name": "Python 3",
   "language": "python",
   "name": "python3"
  },
  "language_info": {
   "codemirror_mode": {
    "name": "ipython",
    "version": 3
   },
   "file_extension": ".py",
   "mimetype": "text/x-python",
   "name": "python",
   "nbconvert_exporter": "python",
   "pygments_lexer": "ipython3",
   "version": "3.9.13"
  }
 },
 "nbformat": 4,
 "nbformat_minor": 4
}
