{
 "cells": [
  {
   "cell_type": "markdown",
   "metadata": {},
   "source": [
    "# Improvement on yanuthone D production in Aspergillus niger"
   ]
  },
  {
   "cell_type": "markdown",
   "metadata": {},
   "source": [
    "## 1. Introduction"
   ]
  },
  {
   "cell_type": "markdown",
   "metadata": {},
   "source": [
    "### 1.1 Literature review of the compound (<500 words)"
   ]
  },
  {
   "cell_type": "markdown",
   "metadata": {},
   "source": [
    "Fungal polyketides represent a multifaceted array of compounds, exhibiting a spectrum of biological activities. While some, such as patulin and aflatoxins, pose health risks to humans, others like statins, mycophenolic acid, and enzyme inhibitors, offer significant medical potential. Despite the isolation and characterization of over 6,000 polyketides (PKs), it is believed that a plethora of these compounds remains undiscovered due to limited gene expression under conventional laboratory conditions (Holm).\n",
    "\n",
    "One of those 6,000 characterized PKs is Yanuthone D, a bioactive meroterpenoid and secondary metabolite from Aspergillus niger. It is an interesting compound as it posseses antibiotic properties against Candida albinicans, methicillin-resistant Staphylococcus aureus (MRSA), and vancomycin-resistant Enterococcus (Holm). Amongst all known yanuthones, it presents the higher potency against C. albicans, with a half-maximal inhibitory concentration (IC50) of 3.3 µM (Holm).\n",
    "\n",
    "Like many other secondary metabolites, yanuthone D’s formation is dependent on a cluster of genes (Holm). In this case, yanuthone D’s cluster is comprised of 10 genes, including yanI and yanA. \n",
    "\n",
    "Unlike previously theorized, yanuthone D is not derived from shikimic acid, but from the decarboxylation and oxidation of the polyketide 6-MSA and its later fusion to a sesquiterpene and a mevalon moiety (Holm). .\n"
   ]
  },
  {
   "cell_type": "markdown",
   "metadata": {},
   "source": [
    "### 1.2 Literature review of the cell factory (<500 words)"
   ]
  },
  {
   "cell_type": "markdown",
   "metadata": {},
   "source": [
    "Aspergillus niger is a black fungus often responsible for food spoilage and feeds (Petersen). However, it is an industrially important cell factory with status “Generally Recognized As Safe” (GRAS). It is used industrially to produce citric acid (CA), gluconic acid and enzymes. As of 2020, it is the most widely production chassis of CA and a total of 19 enzymes are being expressed in this chassis for commercial purposes (Cen Li). It is known to produce more than 100 secondary metabolites (Petersen), one of which is yanuthone D. It is a versatile microorganism because it can be grown in solid-state fermentation (SSF) and in submerged fermentation (SMF), under a wide range of pH (1.5 – 9.0) and also temperature (6 47 °C) (Cen Li). \n",
    "\n",
    "Excellent protein secretion, food processing safety and low cost fermentation medium make it an industrially attractive cell factory. However, genetic engineering remains challenging due to non-homologous recombination as well as the presence of mycotoxins in selected A. niger strains. \n"
   ]
  },
  {
   "cell_type": "markdown",
   "metadata": {},
   "source": [
    "## 2. Problem definition\n",
    "\n",
    "\n",
    "Secondary metabolites may not be readily produced under laboratory conditions in species that are not fully characterized. Even if metabolites of interest are traceable, the lack of genetic tools for these species and the presence of similar metabolites complicate the gene mapping and characterization of the compound (Diana C.A. and Uffe H.M., 2015). Thus attention has been drawn to heterologous expression of novel metabolites in well-engineered cell factory.\n",
    "\n",
    "Due to the potential application of antibiotic yanuthone D and its commercial interest, we want to examine the feasibility of heterologous production of yanuthone D in an industrially relevant strain. It is vital that the organism chosen for cell factory has robust metabolic pathways. *Aspergillus niger* has been described to empower the production of organic acids and enzymes, which, moreover, has obtained GRAS status for use in several industrial processes (Dorte K. Holm et al., 2014). Therefore it is a preferred candidate for the cell factory. \n",
    "\n",
    "Genome sequencing and computational tools have been applied to the strain, and as a result, genomic data for isolates of *A. niger* are emerging and several metabolic networks were presented. However, the gene mining and pathway localization for specific metabolites have been difficult using only scattered sequencing data and uncurated annotation database. Moreover, the omics data and gene-protein-reaction associations (GPRs) are supported by unstructured experimental data. Therefore comprehensive genome-scale metabolic models (GSMs) integrating genome data, bibliomic data and experimental data are required for automated testing and continuous improvements. Nevertheless, models seem to never be perfect as new genes and pathways are validated continuously, so that a model that can be easily updated and reviewed is expected in the future. "
   ]
  },
  {
   "cell_type": "markdown",
   "metadata": {},
   "source": [
    "## 3. Selection and assessment of existing GSM\n",
    "\n",
    "\n",
    "A number of GSMs have been presented during the past decades, which include iHD20 (David, 2003), iMA871 (Andersen, 2008), iHL1210 (Lu, 2017), iJB1325 (Brandl, 2018), and iDU1756 (Upton, 2020). iHD20 is a quite primary model made 20 years ago, and it was made prior to the release of an *A. niger* genome sequence. As a consequence it only contained 20 ORFs concerning central metabolism as it is referred by the number in the model’s name. After the genome sequences of *A. niger* strain ATCC 1015 and CBS 513.88 were released, the first genome-scale model of *A. niger*, iMA871, was published. The model comprises 871 ORFs and 2240 reactions in total by including isoenzymes. Moreover, it combined the genomic and bibliomic information and novelly created a linkage between the metabolic network and literature regarding individual reactions.\n",
    "\n",
    "On the basis of iMA871 model, Lu *et al.* expanded the *A. niger* GSM by updating the latest annotation information from four major databases (KEGG, UniprotKB, AspGD, IMG). Accordingly, the number of unique ORFs increased from 871 to 1,210 with an addition of 384 reactions in the new iHL1210 model. Just shortly after this improvement, Brandl *et al.* reconstructed the model with further addition of ORFs and reactions from 876 publications, whose experimental information were organized in the XML format and separated into two classes for validation, which are evidence items and test cases. The resulting model, iJB1325, has a coverage of 2320 reactions, 1818 metabolites and 1325 genes. Furthermore they developed strain specific model for ATCC 1015 and CBS 513.88 using reciprocal best blast hits between the model and each genome of the strains. Notably, the model is compliant with the SBML standard which allows more versatility for users using different software.\n",
    "\n",
    "In a parallel track, another model, iDU1756 was constructed based on the latest genome data of strain ATCC 1015. It undergone a different annotation process that combined Blast2GO and KEGG Automatic Annotation Server to map genes to Enzyme Commission (EC) numbers, KEGG reactions, and KEGG Orthology (KO) terms. The resulting model has a smaller number of reactions and metabolites but a higher number of matched reactions that can be found precisely in previous models. The missing reactions in iDU1756 captured by iJB1325 were found mostly inactive under the conditions for simulation of organic acid fermentation. On the other hand, the reactions are collected from publications and validated regardless that there are inevitably some putative pathways. In this case, the iJB1325 is reliable to use although more reactions could lead to a larger space for flux variation. Considering the gene for yanuthone D is identified using *A. niger* ATCC1015, the strain specific model iJB1325 should be our choice of GSM. "
   ]
  },
  {
   "cell_type": "markdown",
   "metadata": {},
   "source": [
    "## 4. Computer-Aided Cell Factory Engineering (<1500 words if Category II project; <500 words for Category I project)"
   ]
  },
  {
   "cell_type": "markdown",
   "metadata": {},
   "source": [
    "## 5. Discussion (<500 words)"
   ]
  },
  {
   "cell_type": "markdown",
   "metadata": {},
   "source": [
    "## 6. Conclusion (<200 words)"
   ]
  },
  {
   "cell_type": "markdown",
   "metadata": {},
   "source": [
    "## References"
   ]
  },
  {
   "cell_type": "code",
   "execution_count": null,
   "metadata": {},
   "outputs": [],
   "source": []
  }
 ],
 "metadata": {
  "kernelspec": {
   "display_name": "python3.6",
   "language": "python",
   "name": "python3.6"
  },
  "language_info": {
   "codemirror_mode": {
    "name": "ipython",
    "version": 3
   },
   "file_extension": ".py",
   "mimetype": "text/x-python",
   "name": "python",
   "nbconvert_exporter": "python",
   "pygments_lexer": "ipython3",
   "version": "3.6.11"
  }
 },
 "nbformat": 4,
 "nbformat_minor": 4
}
